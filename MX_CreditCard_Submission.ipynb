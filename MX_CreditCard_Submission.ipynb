{
 "cells": [
  {
   "cell_type": "markdown",
   "metadata": {},
   "source": [
    "### Credit Card:\n",
    "\n",
    "#### Problem Statement\n",
    "The present generation is highly motivated towards the use of credit cards. There are a large number of applications for the credit card and it becomes very tedious for the bank to decide which person should be approved a credit card and which not. The list of defaulters is increasing and this brings trouble for the bank and other customers too. The bank needs ways to minimise this number for the proper functioning of the credit card feature and expand to a wider audience. It is where the role of Machine Learning and Data Science comes into play. The tedious task can be dealt with Machine Learning by training the models with minimized errors.\n",
    "\n",
    "### Task\n",
    "The bank has provided the data of customers with certain attributes. You need to predict if the customer would be approved a credit card or not. If the credit card is approved, it is denoted with ‘+’ and if it is not approved then it is denoted\n",
    "with '-'.\n"
   ]
  },
  {
   "cell_type": "markdown",
   "metadata": {},
   "source": [
    "### Classification based on Logistic Regression\n",
    "\n",
    "### Steps Involved:\n",
    "\n",
    "1.Importing Data<br>\n",
    "2.Inspecting Dataframe<br>\n",
    "3.Data Preparation<br>\n",
    "4.Train-Test Split<br>\n",
    "5.Model Building<br>\n",
    "6.Feature Selection using PCA<br>\n",
    "7.Model Evaluation<br>\n",
    "8.Making Predictions on Test Dataset<br>\n",
    "9.Inferences & Conclusions"
   ]
  },
  {
   "cell_type": "markdown",
   "metadata": {},
   "source": [
    "### Step 1: Importing  Data"
   ]
  },
  {
   "cell_type": "code",
   "execution_count": 126,
   "metadata": {},
   "outputs": [],
   "source": [
    "# Suppressing Warnings\n",
    "import warnings\n",
    "warnings.filterwarnings('ignore')"
   ]
  },
  {
   "cell_type": "code",
   "execution_count": 127,
   "metadata": {},
   "outputs": [],
   "source": [
    "# importing necessary libraries \n",
    "\n",
    "import pandas as pd\n",
    "import numpy as np\n",
    "from sklearn.preprocessing import LabelEncoder\n",
    "from sklearn.model_selection import train_test_split\n",
    "from sklearn.linear_model import LogisticRegression\n",
    "from sklearn.metrics import confusion_matrix\n",
    "from sklearn.model_selection import GridSearchCV\n",
    "import matplotlib.pyplot as plt\n",
    "import seaborn as sns"
   ]
  },
  {
   "cell_type": "code",
   "execution_count": 128,
   "metadata": {},
   "outputs": [
    {
     "data": {
      "text/html": [
       "<div>\n",
       "<style scoped>\n",
       "    .dataframe tbody tr th:only-of-type {\n",
       "        vertical-align: middle;\n",
       "    }\n",
       "\n",
       "    .dataframe tbody tr th {\n",
       "        vertical-align: top;\n",
       "    }\n",
       "\n",
       "    .dataframe thead th {\n",
       "        text-align: right;\n",
       "    }\n",
       "</style>\n",
       "<table border=\"1\" class=\"dataframe\">\n",
       "  <thead>\n",
       "    <tr style=\"text-align: right;\">\n",
       "      <th></th>\n",
       "      <th>Key</th>\n",
       "      <th>Male</th>\n",
       "      <th>Age</th>\n",
       "      <th>Debt</th>\n",
       "      <th>Married</th>\n",
       "      <th>BankCustomer</th>\n",
       "      <th>EducationLevel</th>\n",
       "      <th>Ethnicity</th>\n",
       "      <th>YearsEmployed</th>\n",
       "      <th>PriorDefault</th>\n",
       "      <th>Employed</th>\n",
       "      <th>CreditScore</th>\n",
       "      <th>DriversLicense</th>\n",
       "      <th>Citizen</th>\n",
       "      <th>ZipCode</th>\n",
       "      <th>Income</th>\n",
       "      <th>Approved</th>\n",
       "    </tr>\n",
       "  </thead>\n",
       "  <tbody>\n",
       "    <tr>\n",
       "      <th>0</th>\n",
       "      <td>1</td>\n",
       "      <td>?</td>\n",
       "      <td>40.83</td>\n",
       "      <td>3.500</td>\n",
       "      <td>u</td>\n",
       "      <td>g</td>\n",
       "      <td>i</td>\n",
       "      <td>bb</td>\n",
       "      <td>0.500</td>\n",
       "      <td>f</td>\n",
       "      <td>f</td>\n",
       "      <td>0</td>\n",
       "      <td>f</td>\n",
       "      <td>s</td>\n",
       "      <td>1160</td>\n",
       "      <td>0</td>\n",
       "      <td>-</td>\n",
       "    </tr>\n",
       "    <tr>\n",
       "      <th>1</th>\n",
       "      <td>2</td>\n",
       "      <td>?</td>\n",
       "      <td>32.25</td>\n",
       "      <td>1.500</td>\n",
       "      <td>u</td>\n",
       "      <td>g</td>\n",
       "      <td>c</td>\n",
       "      <td>v</td>\n",
       "      <td>0.250</td>\n",
       "      <td>f</td>\n",
       "      <td>f</td>\n",
       "      <td>0</td>\n",
       "      <td>t</td>\n",
       "      <td>g</td>\n",
       "      <td>372</td>\n",
       "      <td>122</td>\n",
       "      <td>-</td>\n",
       "    </tr>\n",
       "    <tr>\n",
       "      <th>2</th>\n",
       "      <td>3</td>\n",
       "      <td>?</td>\n",
       "      <td>28.17</td>\n",
       "      <td>0.585</td>\n",
       "      <td>u</td>\n",
       "      <td>g</td>\n",
       "      <td>aa</td>\n",
       "      <td>v</td>\n",
       "      <td>0.040</td>\n",
       "      <td>f</td>\n",
       "      <td>f</td>\n",
       "      <td>0</td>\n",
       "      <td>f</td>\n",
       "      <td>g</td>\n",
       "      <td>260</td>\n",
       "      <td>1004</td>\n",
       "      <td>-</td>\n",
       "    </tr>\n",
       "    <tr>\n",
       "      <th>3</th>\n",
       "      <td>4</td>\n",
       "      <td>?</td>\n",
       "      <td>29.75</td>\n",
       "      <td>0.665</td>\n",
       "      <td>u</td>\n",
       "      <td>g</td>\n",
       "      <td>w</td>\n",
       "      <td>v</td>\n",
       "      <td>0.250</td>\n",
       "      <td>f</td>\n",
       "      <td>f</td>\n",
       "      <td>0</td>\n",
       "      <td>t</td>\n",
       "      <td>g</td>\n",
       "      <td>300</td>\n",
       "      <td>0</td>\n",
       "      <td>-</td>\n",
       "    </tr>\n",
       "    <tr>\n",
       "      <th>4</th>\n",
       "      <td>5</td>\n",
       "      <td>?</td>\n",
       "      <td>26.5</td>\n",
       "      <td>2.710</td>\n",
       "      <td>y</td>\n",
       "      <td>p</td>\n",
       "      <td>?</td>\n",
       "      <td>?</td>\n",
       "      <td>0.085</td>\n",
       "      <td>f</td>\n",
       "      <td>f</td>\n",
       "      <td>0</td>\n",
       "      <td>f</td>\n",
       "      <td>s</td>\n",
       "      <td>80</td>\n",
       "      <td>0</td>\n",
       "      <td>-</td>\n",
       "    </tr>\n",
       "  </tbody>\n",
       "</table>\n",
       "</div>"
      ],
      "text/plain": [
       "   Key Male    Age   Debt Married BankCustomer EducationLevel Ethnicity  \\\n",
       "0    1    ?  40.83  3.500       u            g              i        bb   \n",
       "1    2    ?  32.25  1.500       u            g              c         v   \n",
       "2    3    ?  28.17  0.585       u            g             aa         v   \n",
       "3    4    ?  29.75  0.665       u            g              w         v   \n",
       "4    5    ?   26.5  2.710       y            p              ?         ?   \n",
       "\n",
       "   YearsEmployed PriorDefault Employed  CreditScore DriversLicense Citizen  \\\n",
       "0          0.500            f        f            0              f       s   \n",
       "1          0.250            f        f            0              t       g   \n",
       "2          0.040            f        f            0              f       g   \n",
       "3          0.250            f        f            0              t       g   \n",
       "4          0.085            f        f            0              f       s   \n",
       "\n",
       "  ZipCode  Income Approved  \n",
       "0    1160       0        -  \n",
       "1     372     122        -  \n",
       "2     260    1004        -  \n",
       "3     300       0        -  \n",
       "4      80       0        -  "
      ]
     },
     "execution_count": 128,
     "metadata": {},
     "output_type": "execute_result"
    }
   ],
   "source": [
    "# Importing all datasets\n",
    "df = pd.read_csv('C:/Users/jigyasu/Downloads/American_Express_Hackathon/American_Express_Hackathon/train_data.csv') \n",
    "df.head() "
   ]
  },
  {
   "cell_type": "code",
   "execution_count": 129,
   "metadata": {},
   "outputs": [
    {
     "data": {
      "text/html": [
       "<div>\n",
       "<style scoped>\n",
       "    .dataframe tbody tr th:only-of-type {\n",
       "        vertical-align: middle;\n",
       "    }\n",
       "\n",
       "    .dataframe tbody tr th {\n",
       "        vertical-align: top;\n",
       "    }\n",
       "\n",
       "    .dataframe thead th {\n",
       "        text-align: right;\n",
       "    }\n",
       "</style>\n",
       "<table border=\"1\" class=\"dataframe\">\n",
       "  <thead>\n",
       "    <tr style=\"text-align: right;\">\n",
       "      <th></th>\n",
       "      <th>Key</th>\n",
       "      <th>Male</th>\n",
       "      <th>Age</th>\n",
       "      <th>Debt</th>\n",
       "      <th>Married</th>\n",
       "      <th>BankCustomer</th>\n",
       "      <th>EducationLevel</th>\n",
       "      <th>Ethnicity</th>\n",
       "      <th>YearsEmployed</th>\n",
       "      <th>PriorDefault</th>\n",
       "      <th>Employed</th>\n",
       "      <th>CreditScore</th>\n",
       "      <th>DriversLicense</th>\n",
       "      <th>Citizen</th>\n",
       "      <th>ZipCode</th>\n",
       "      <th>Income</th>\n",
       "    </tr>\n",
       "  </thead>\n",
       "  <tbody>\n",
       "    <tr>\n",
       "      <th>0</th>\n",
       "      <td>1</td>\n",
       "      <td>b</td>\n",
       "      <td>31.83</td>\n",
       "      <td>0.04</td>\n",
       "      <td>y</td>\n",
       "      <td>p</td>\n",
       "      <td>m</td>\n",
       "      <td>v</td>\n",
       "      <td>0.040</td>\n",
       "      <td>f</td>\n",
       "      <td>f</td>\n",
       "      <td>0</td>\n",
       "      <td>f</td>\n",
       "      <td>g</td>\n",
       "      <td>0</td>\n",
       "      <td>0</td>\n",
       "    </tr>\n",
       "    <tr>\n",
       "      <th>1</th>\n",
       "      <td>2</td>\n",
       "      <td>a</td>\n",
       "      <td>21.75</td>\n",
       "      <td>11.75</td>\n",
       "      <td>u</td>\n",
       "      <td>g</td>\n",
       "      <td>c</td>\n",
       "      <td>v</td>\n",
       "      <td>0.250</td>\n",
       "      <td>f</td>\n",
       "      <td>f</td>\n",
       "      <td>0</td>\n",
       "      <td>t</td>\n",
       "      <td>g</td>\n",
       "      <td>180</td>\n",
       "      <td>0</td>\n",
       "    </tr>\n",
       "    <tr>\n",
       "      <th>2</th>\n",
       "      <td>3</td>\n",
       "      <td>a</td>\n",
       "      <td>17.92</td>\n",
       "      <td>0.54</td>\n",
       "      <td>u</td>\n",
       "      <td>g</td>\n",
       "      <td>c</td>\n",
       "      <td>v</td>\n",
       "      <td>1.750</td>\n",
       "      <td>f</td>\n",
       "      <td>t</td>\n",
       "      <td>1</td>\n",
       "      <td>t</td>\n",
       "      <td>g</td>\n",
       "      <td>80</td>\n",
       "      <td>5</td>\n",
       "    </tr>\n",
       "    <tr>\n",
       "      <th>3</th>\n",
       "      <td>4</td>\n",
       "      <td>b</td>\n",
       "      <td>30.33</td>\n",
       "      <td>0.50</td>\n",
       "      <td>u</td>\n",
       "      <td>g</td>\n",
       "      <td>d</td>\n",
       "      <td>h</td>\n",
       "      <td>0.085</td>\n",
       "      <td>f</td>\n",
       "      <td>f</td>\n",
       "      <td>0</td>\n",
       "      <td>t</td>\n",
       "      <td>s</td>\n",
       "      <td>252</td>\n",
       "      <td>0</td>\n",
       "    </tr>\n",
       "    <tr>\n",
       "      <th>4</th>\n",
       "      <td>5</td>\n",
       "      <td>b</td>\n",
       "      <td>51.83</td>\n",
       "      <td>2.04</td>\n",
       "      <td>y</td>\n",
       "      <td>p</td>\n",
       "      <td>ff</td>\n",
       "      <td>ff</td>\n",
       "      <td>1.500</td>\n",
       "      <td>f</td>\n",
       "      <td>f</td>\n",
       "      <td>0</td>\n",
       "      <td>f</td>\n",
       "      <td>g</td>\n",
       "      <td>120</td>\n",
       "      <td>1</td>\n",
       "    </tr>\n",
       "  </tbody>\n",
       "</table>\n",
       "</div>"
      ],
      "text/plain": [
       "   Key Male    Age   Debt Married BankCustomer EducationLevel Ethnicity  \\\n",
       "0    1    b  31.83   0.04       y            p              m         v   \n",
       "1    2    a  21.75  11.75       u            g              c         v   \n",
       "2    3    a  17.92   0.54       u            g              c         v   \n",
       "3    4    b  30.33   0.50       u            g              d         h   \n",
       "4    5    b  51.83   2.04       y            p             ff        ff   \n",
       "\n",
       "   YearsEmployed PriorDefault Employed  CreditScore DriversLicense Citizen  \\\n",
       "0          0.040            f        f            0              f       g   \n",
       "1          0.250            f        f            0              t       g   \n",
       "2          1.750            f        t            1              t       g   \n",
       "3          0.085            f        f            0              t       s   \n",
       "4          1.500            f        f            0              f       g   \n",
       "\n",
       "   ZipCode  Income  \n",
       "0        0       0  \n",
       "1      180       0  \n",
       "2       80       5  \n",
       "3      252       0  \n",
       "4      120       1  "
      ]
     },
     "execution_count": 129,
     "metadata": {},
     "output_type": "execute_result"
    }
   ],
   "source": [
    "test = pd.read_csv(\"C:/Users/jigyasu/Downloads/American_Express_Hackathon/American_Express_Hackathon/test_data.csv\") \n",
    "test.head()"
   ]
  },
  {
   "cell_type": "markdown",
   "metadata": {},
   "source": [
    "### Step 2: Inspecting the Dataframe"
   ]
  },
  {
   "cell_type": "code",
   "execution_count": 130,
   "metadata": {},
   "outputs": [
    {
     "name": "stdout",
     "output_type": "stream",
     "text": [
      "<class 'pandas.core.frame.DataFrame'>\n",
      "RangeIndex: 590 entries, 0 to 589\n",
      "Data columns (total 17 columns):\n",
      "Key               590 non-null int64\n",
      "Male              590 non-null object\n",
      "Age               590 non-null object\n",
      "Debt              590 non-null float64\n",
      "Married           590 non-null object\n",
      "BankCustomer      590 non-null object\n",
      "EducationLevel    590 non-null object\n",
      "Ethnicity         590 non-null object\n",
      "YearsEmployed     590 non-null float64\n",
      "PriorDefault      590 non-null object\n",
      "Employed          590 non-null object\n",
      "CreditScore       590 non-null int64\n",
      "DriversLicense    590 non-null object\n",
      "Citizen           590 non-null object\n",
      "ZipCode           590 non-null object\n",
      "Income            590 non-null int64\n",
      "Approved          590 non-null object\n",
      "dtypes: float64(2), int64(3), object(12)\n",
      "memory usage: 78.4+ KB\n"
     ]
    }
   ],
   "source": [
    "# Let's see the head of  dataset\n",
    "df.info()"
   ]
  },
  {
   "cell_type": "code",
   "execution_count": 131,
   "metadata": {},
   "outputs": [
    {
     "name": "stdout",
     "output_type": "stream",
     "text": [
      "<class 'pandas.core.frame.DataFrame'>\n",
      "RangeIndex: 100 entries, 0 to 99\n",
      "Data columns (total 16 columns):\n",
      "Key               100 non-null int64\n",
      "Male              100 non-null object\n",
      "Age               100 non-null float64\n",
      "Debt              100 non-null float64\n",
      "Married           100 non-null object\n",
      "BankCustomer      100 non-null object\n",
      "EducationLevel    100 non-null object\n",
      "Ethnicity         100 non-null object\n",
      "YearsEmployed     100 non-null float64\n",
      "PriorDefault      100 non-null object\n",
      "Employed          100 non-null object\n",
      "CreditScore       100 non-null int64\n",
      "DriversLicense    100 non-null object\n",
      "Citizen           100 non-null object\n",
      "ZipCode           100 non-null int64\n",
      "Income            100 non-null int64\n",
      "dtypes: float64(3), int64(4), object(9)\n",
      "memory usage: 12.6+ KB\n"
     ]
    }
   ],
   "source": [
    "test.info()"
   ]
  },
  {
   "cell_type": "code",
   "execution_count": 132,
   "metadata": {},
   "outputs": [
    {
     "name": "stdout",
     "output_type": "stream",
     "text": [
      "Train data shape: (590, 17)\n",
      "Test data shape: (100, 16)\n"
     ]
    }
   ],
   "source": [
    "# check out the size of the data\n",
    "\n",
    "print(\"Train data shape:\", df.shape)\n",
    "print(\"Test data shape:\", test.shape)"
   ]
  },
  {
   "cell_type": "code",
   "execution_count": 133,
   "metadata": {},
   "outputs": [
    {
     "name": "stdout",
     "output_type": "stream",
     "text": [
      "Index(['Key', 'Male', 'Age', 'Debt', 'Married', 'BankCustomer',\n",
      "       'EducationLevel', 'Ethnicity', 'YearsEmployed', 'PriorDefault',\n",
      "       'Employed', 'CreditScore', 'DriversLicense', 'Citizen', 'ZipCode',\n",
      "       'Income', 'Approved'],\n",
      "      dtype='object')\n",
      "Index(['Key', 'Male', 'Age', 'Debt', 'Married', 'BankCustomer',\n",
      "       'EducationLevel', 'Ethnicity', 'YearsEmployed', 'PriorDefault',\n",
      "       'Employed', 'CreditScore', 'DriversLicense', 'Citizen', 'ZipCode',\n",
      "       'Income'],\n",
      "      dtype='object')\n"
     ]
    }
   ],
   "source": [
    "# let's look at the statistical aspects of the dataframe\n",
    "\n",
    "print(df.columns)\n",
    "print(test.columns)"
   ]
  },
  {
   "cell_type": "code",
   "execution_count": 134,
   "metadata": {},
   "outputs": [
    {
     "data": {
      "text/html": [
       "<div>\n",
       "<style scoped>\n",
       "    .dataframe tbody tr th:only-of-type {\n",
       "        vertical-align: middle;\n",
       "    }\n",
       "\n",
       "    .dataframe tbody tr th {\n",
       "        vertical-align: top;\n",
       "    }\n",
       "\n",
       "    .dataframe thead th {\n",
       "        text-align: right;\n",
       "    }\n",
       "</style>\n",
       "<table border=\"1\" class=\"dataframe\">\n",
       "  <thead>\n",
       "    <tr style=\"text-align: right;\">\n",
       "      <th></th>\n",
       "      <th>Key</th>\n",
       "      <th>Debt</th>\n",
       "      <th>YearsEmployed</th>\n",
       "      <th>CreditScore</th>\n",
       "      <th>Income</th>\n",
       "    </tr>\n",
       "  </thead>\n",
       "  <tbody>\n",
       "    <tr>\n",
       "      <th>count</th>\n",
       "      <td>590.000000</td>\n",
       "      <td>590.000000</td>\n",
       "      <td>590.000000</td>\n",
       "      <td>590.000000</td>\n",
       "      <td>590.000000</td>\n",
       "    </tr>\n",
       "    <tr>\n",
       "      <th>mean</th>\n",
       "      <td>295.500000</td>\n",
       "      <td>4.609390</td>\n",
       "      <td>2.088534</td>\n",
       "      <td>2.045763</td>\n",
       "      <td>918.706780</td>\n",
       "    </tr>\n",
       "    <tr>\n",
       "      <th>std</th>\n",
       "      <td>170.462606</td>\n",
       "      <td>4.849569</td>\n",
       "      <td>3.198681</td>\n",
       "      <td>3.702375</td>\n",
       "      <td>5025.415369</td>\n",
       "    </tr>\n",
       "    <tr>\n",
       "      <th>min</th>\n",
       "      <td>1.000000</td>\n",
       "      <td>0.000000</td>\n",
       "      <td>0.000000</td>\n",
       "      <td>0.000000</td>\n",
       "      <td>0.000000</td>\n",
       "    </tr>\n",
       "    <tr>\n",
       "      <th>25%</th>\n",
       "      <td>148.250000</td>\n",
       "      <td>1.000000</td>\n",
       "      <td>0.165000</td>\n",
       "      <td>0.000000</td>\n",
       "      <td>0.000000</td>\n",
       "    </tr>\n",
       "    <tr>\n",
       "      <th>50%</th>\n",
       "      <td>295.500000</td>\n",
       "      <td>2.710000</td>\n",
       "      <td>1.000000</td>\n",
       "      <td>0.000000</td>\n",
       "      <td>4.000000</td>\n",
       "    </tr>\n",
       "    <tr>\n",
       "      <th>75%</th>\n",
       "      <td>442.750000</td>\n",
       "      <td>7.000000</td>\n",
       "      <td>2.500000</td>\n",
       "      <td>2.000000</td>\n",
       "      <td>363.000000</td>\n",
       "    </tr>\n",
       "    <tr>\n",
       "      <th>90%</th>\n",
       "      <td>531.100000</td>\n",
       "      <td>11.500000</td>\n",
       "      <td>5.500000</td>\n",
       "      <td>7.000000</td>\n",
       "      <td>2000.000000</td>\n",
       "    </tr>\n",
       "    <tr>\n",
       "      <th>95%</th>\n",
       "      <td>560.550000</td>\n",
       "      <td>13.711750</td>\n",
       "      <td>8.590750</td>\n",
       "      <td>11.000000</td>\n",
       "      <td>4000.000000</td>\n",
       "    </tr>\n",
       "    <tr>\n",
       "      <th>max</th>\n",
       "      <td>590.000000</td>\n",
       "      <td>26.335000</td>\n",
       "      <td>20.000000</td>\n",
       "      <td>20.000000</td>\n",
       "      <td>100000.000000</td>\n",
       "    </tr>\n",
       "  </tbody>\n",
       "</table>\n",
       "</div>"
      ],
      "text/plain": [
       "              Key        Debt  YearsEmployed  CreditScore         Income\n",
       "count  590.000000  590.000000     590.000000   590.000000     590.000000\n",
       "mean   295.500000    4.609390       2.088534     2.045763     918.706780\n",
       "std    170.462606    4.849569       3.198681     3.702375    5025.415369\n",
       "min      1.000000    0.000000       0.000000     0.000000       0.000000\n",
       "25%    148.250000    1.000000       0.165000     0.000000       0.000000\n",
       "50%    295.500000    2.710000       1.000000     0.000000       4.000000\n",
       "75%    442.750000    7.000000       2.500000     2.000000     363.000000\n",
       "90%    531.100000   11.500000       5.500000     7.000000    2000.000000\n",
       "95%    560.550000   13.711750       8.590750    11.000000    4000.000000\n",
       "max    590.000000   26.335000      20.000000    20.000000  100000.000000"
      ]
     },
     "execution_count": 134,
     "metadata": {},
     "output_type": "execute_result"
    }
   ],
   "source": [
    "# let's look at the statistical aspects of the dataframe\n",
    "df.describe(percentiles=[.25,.5,.75,.90,.95])\n"
   ]
  },
  {
   "cell_type": "code",
   "execution_count": 135,
   "metadata": {},
   "outputs": [
    {
     "data": {
      "text/html": [
       "<div>\n",
       "<style scoped>\n",
       "    .dataframe tbody tr th:only-of-type {\n",
       "        vertical-align: middle;\n",
       "    }\n",
       "\n",
       "    .dataframe tbody tr th {\n",
       "        vertical-align: top;\n",
       "    }\n",
       "\n",
       "    .dataframe thead th {\n",
       "        text-align: right;\n",
       "    }\n",
       "</style>\n",
       "<table border=\"1\" class=\"dataframe\">\n",
       "  <thead>\n",
       "    <tr style=\"text-align: right;\">\n",
       "      <th></th>\n",
       "      <th>Key</th>\n",
       "      <th>Age</th>\n",
       "      <th>Debt</th>\n",
       "      <th>YearsEmployed</th>\n",
       "      <th>CreditScore</th>\n",
       "      <th>ZipCode</th>\n",
       "      <th>Income</th>\n",
       "    </tr>\n",
       "  </thead>\n",
       "  <tbody>\n",
       "    <tr>\n",
       "      <th>count</th>\n",
       "      <td>100.000000</td>\n",
       "      <td>100.000000</td>\n",
       "      <td>100.000000</td>\n",
       "      <td>100.000000</td>\n",
       "      <td>100.000000</td>\n",
       "      <td>100.000000</td>\n",
       "      <td>100.000000</td>\n",
       "    </tr>\n",
       "    <tr>\n",
       "      <th>mean</th>\n",
       "      <td>50.500000</td>\n",
       "      <td>33.359400</td>\n",
       "      <td>5.639800</td>\n",
       "      <td>3.019150</td>\n",
       "      <td>4.490000</td>\n",
       "      <td>174.170000</td>\n",
       "      <td>1599.590000</td>\n",
       "    </tr>\n",
       "    <tr>\n",
       "      <th>std</th>\n",
       "      <td>29.011492</td>\n",
       "      <td>11.521954</td>\n",
       "      <td>5.624441</td>\n",
       "      <td>4.039917</td>\n",
       "      <td>8.824318</td>\n",
       "      <td>159.721225</td>\n",
       "      <td>6185.926674</td>\n",
       "    </tr>\n",
       "    <tr>\n",
       "      <th>min</th>\n",
       "      <td>1.000000</td>\n",
       "      <td>15.830000</td>\n",
       "      <td>0.000000</td>\n",
       "      <td>0.000000</td>\n",
       "      <td>0.000000</td>\n",
       "      <td>0.000000</td>\n",
       "      <td>0.000000</td>\n",
       "    </tr>\n",
       "    <tr>\n",
       "      <th>25%</th>\n",
       "      <td>25.750000</td>\n",
       "      <td>23.397500</td>\n",
       "      <td>1.000000</td>\n",
       "      <td>0.500000</td>\n",
       "      <td>0.000000</td>\n",
       "      <td>0.000000</td>\n",
       "      <td>0.000000</td>\n",
       "    </tr>\n",
       "    <tr>\n",
       "      <th>50%</th>\n",
       "      <td>50.500000</td>\n",
       "      <td>30.705000</td>\n",
       "      <td>4.125000</td>\n",
       "      <td>1.667500</td>\n",
       "      <td>1.000000</td>\n",
       "      <td>142.500000</td>\n",
       "      <td>26.000000</td>\n",
       "    </tr>\n",
       "    <tr>\n",
       "      <th>75%</th>\n",
       "      <td>75.250000</td>\n",
       "      <td>41.252500</td>\n",
       "      <td>9.508750</td>\n",
       "      <td>4.376250</td>\n",
       "      <td>6.000000</td>\n",
       "      <td>260.000000</td>\n",
       "      <td>509.250000</td>\n",
       "    </tr>\n",
       "    <tr>\n",
       "      <th>90%</th>\n",
       "      <td>90.100000</td>\n",
       "      <td>51.897000</td>\n",
       "      <td>12.851500</td>\n",
       "      <td>7.041500</td>\n",
       "      <td>11.100000</td>\n",
       "      <td>400.000000</td>\n",
       "      <td>2323.700000</td>\n",
       "    </tr>\n",
       "    <tr>\n",
       "      <th>95%</th>\n",
       "      <td>95.050000</td>\n",
       "      <td>56.428000</td>\n",
       "      <td>14.800500</td>\n",
       "      <td>8.306750</td>\n",
       "      <td>15.100000</td>\n",
       "      <td>491.450000</td>\n",
       "      <td>6010.000000</td>\n",
       "    </tr>\n",
       "    <tr>\n",
       "      <th>max</th>\n",
       "      <td>100.000000</td>\n",
       "      <td>58.670000</td>\n",
       "      <td>28.000000</td>\n",
       "      <td>28.500000</td>\n",
       "      <td>67.000000</td>\n",
       "      <td>711.000000</td>\n",
       "      <td>50000.000000</td>\n",
       "    </tr>\n",
       "  </tbody>\n",
       "</table>\n",
       "</div>"
      ],
      "text/plain": [
       "              Key         Age        Debt  YearsEmployed  CreditScore  \\\n",
       "count  100.000000  100.000000  100.000000     100.000000   100.000000   \n",
       "mean    50.500000   33.359400    5.639800       3.019150     4.490000   \n",
       "std     29.011492   11.521954    5.624441       4.039917     8.824318   \n",
       "min      1.000000   15.830000    0.000000       0.000000     0.000000   \n",
       "25%     25.750000   23.397500    1.000000       0.500000     0.000000   \n",
       "50%     50.500000   30.705000    4.125000       1.667500     1.000000   \n",
       "75%     75.250000   41.252500    9.508750       4.376250     6.000000   \n",
       "90%     90.100000   51.897000   12.851500       7.041500    11.100000   \n",
       "95%     95.050000   56.428000   14.800500       8.306750    15.100000   \n",
       "max    100.000000   58.670000   28.000000      28.500000    67.000000   \n",
       "\n",
       "          ZipCode        Income  \n",
       "count  100.000000    100.000000  \n",
       "mean   174.170000   1599.590000  \n",
       "std    159.721225   6185.926674  \n",
       "min      0.000000      0.000000  \n",
       "25%      0.000000      0.000000  \n",
       "50%    142.500000     26.000000  \n",
       "75%    260.000000    509.250000  \n",
       "90%    400.000000   2323.700000  \n",
       "95%    491.450000   6010.000000  \n",
       "max    711.000000  50000.000000  "
      ]
     },
     "execution_count": 135,
     "metadata": {},
     "output_type": "execute_result"
    }
   ],
   "source": [
    "test.describe(percentiles=[.25,.5,.75,.90,.95])"
   ]
  },
  {
   "cell_type": "markdown",
   "metadata": {},
   "source": [
    "### Step 3: Data Preparation"
   ]
  },
  {
   "cell_type": "code",
   "execution_count": 136,
   "metadata": {},
   "outputs": [
    {
     "data": {
      "text/html": [
       "<div>\n",
       "<style scoped>\n",
       "    .dataframe tbody tr th:only-of-type {\n",
       "        vertical-align: middle;\n",
       "    }\n",
       "\n",
       "    .dataframe tbody tr th {\n",
       "        vertical-align: top;\n",
       "    }\n",
       "\n",
       "    .dataframe thead th {\n",
       "        text-align: right;\n",
       "    }\n",
       "</style>\n",
       "<table border=\"1\" class=\"dataframe\">\n",
       "  <thead>\n",
       "    <tr style=\"text-align: right;\">\n",
       "      <th></th>\n",
       "      <th>Key</th>\n",
       "      <th>Male</th>\n",
       "      <th>Age</th>\n",
       "      <th>Debt</th>\n",
       "      <th>Married</th>\n",
       "      <th>BankCustomer</th>\n",
       "      <th>EducationLevel</th>\n",
       "      <th>Ethnicity</th>\n",
       "      <th>YearsEmployed</th>\n",
       "      <th>PriorDefault</th>\n",
       "      <th>Employed</th>\n",
       "      <th>CreditScore</th>\n",
       "      <th>DriversLicense</th>\n",
       "      <th>Citizen</th>\n",
       "      <th>ZipCode</th>\n",
       "      <th>Income</th>\n",
       "      <th>Approved</th>\n",
       "    </tr>\n",
       "  </thead>\n",
       "  <tbody>\n",
       "  </tbody>\n",
       "</table>\n",
       "</div>"
      ],
      "text/plain": [
       "Empty DataFrame\n",
       "Columns: [Key, Male, Age, Debt, Married, BankCustomer, EducationLevel, Ethnicity, YearsEmployed, PriorDefault, Employed, CreditScore, DriversLicense, Citizen, ZipCode, Income, Approved]\n",
       "Index: []"
      ]
     },
     "execution_count": 136,
     "metadata": {},
     "output_type": "execute_result"
    }
   ],
   "source": [
    "#checking dublicate values\n",
    "\n",
    "df[df.duplicated(keep=False)]"
   ]
  },
  {
   "cell_type": "code",
   "execution_count": 137,
   "metadata": {},
   "outputs": [
    {
     "data": {
      "text/html": [
       "<div>\n",
       "<style scoped>\n",
       "    .dataframe tbody tr th:only-of-type {\n",
       "        vertical-align: middle;\n",
       "    }\n",
       "\n",
       "    .dataframe tbody tr th {\n",
       "        vertical-align: top;\n",
       "    }\n",
       "\n",
       "    .dataframe thead th {\n",
       "        text-align: right;\n",
       "    }\n",
       "</style>\n",
       "<table border=\"1\" class=\"dataframe\">\n",
       "  <thead>\n",
       "    <tr style=\"text-align: right;\">\n",
       "      <th></th>\n",
       "      <th>Key</th>\n",
       "      <th>Male</th>\n",
       "      <th>Age</th>\n",
       "      <th>Debt</th>\n",
       "      <th>Married</th>\n",
       "      <th>BankCustomer</th>\n",
       "      <th>EducationLevel</th>\n",
       "      <th>Ethnicity</th>\n",
       "      <th>YearsEmployed</th>\n",
       "      <th>PriorDefault</th>\n",
       "      <th>Employed</th>\n",
       "      <th>CreditScore</th>\n",
       "      <th>DriversLicense</th>\n",
       "      <th>Citizen</th>\n",
       "      <th>ZipCode</th>\n",
       "      <th>Income</th>\n",
       "    </tr>\n",
       "  </thead>\n",
       "  <tbody>\n",
       "  </tbody>\n",
       "</table>\n",
       "</div>"
      ],
      "text/plain": [
       "Empty DataFrame\n",
       "Columns: [Key, Male, Age, Debt, Married, BankCustomer, EducationLevel, Ethnicity, YearsEmployed, PriorDefault, Employed, CreditScore, DriversLicense, Citizen, ZipCode, Income]\n",
       "Index: []"
      ]
     },
     "execution_count": 137,
     "metadata": {},
     "output_type": "execute_result"
    }
   ],
   "source": [
    "\n",
    "test[test.duplicated(keep=False)]"
   ]
  },
  {
   "cell_type": "markdown",
   "metadata": {},
   "source": [
    "#### There are NO DUPLICATES !!!!"
   ]
  },
  {
   "cell_type": "markdown",
   "metadata": {},
   "source": [
    "### Dropping the Columns which are not Significant for Analysis.\n",
    "Such as Key, ZipCode and Citizen\n",
    "#### As approximately 90% records have Citizen as g category so there is no variability in this feature ..rather Ethnicity could be a significant feature!!!"
   ]
  },
  {
   "cell_type": "code",
   "execution_count": 138,
   "metadata": {},
   "outputs": [],
   "source": [
    "df= df.drop(['ZipCode','Key', 'Citizen'], axis=1)\n",
    "test= test.drop(['ZipCode', 'Citizen'], axis=1)"
   ]
  },
  {
   "cell_type": "markdown",
   "metadata": {},
   "source": [
    "### Checking the Correlation Matrix"
   ]
  },
  {
   "cell_type": "code",
   "execution_count": 139,
   "metadata": {},
   "outputs": [
    {
     "data": {
      "text/html": [
       "<div>\n",
       "<style scoped>\n",
       "    .dataframe tbody tr th:only-of-type {\n",
       "        vertical-align: middle;\n",
       "    }\n",
       "\n",
       "    .dataframe tbody tr th {\n",
       "        vertical-align: top;\n",
       "    }\n",
       "\n",
       "    .dataframe thead th {\n",
       "        text-align: right;\n",
       "    }\n",
       "</style>\n",
       "<table border=\"1\" class=\"dataframe\">\n",
       "  <thead>\n",
       "    <tr style=\"text-align: right;\">\n",
       "      <th></th>\n",
       "      <th>Debt</th>\n",
       "      <th>YearsEmployed</th>\n",
       "      <th>CreditScore</th>\n",
       "      <th>Income</th>\n",
       "    </tr>\n",
       "  </thead>\n",
       "  <tbody>\n",
       "    <tr>\n",
       "      <th>Debt</th>\n",
       "      <td>1.000000</td>\n",
       "      <td>0.256885</td>\n",
       "      <td>0.214485</td>\n",
       "      <td>0.179717</td>\n",
       "    </tr>\n",
       "    <tr>\n",
       "      <th>YearsEmployed</th>\n",
       "      <td>0.256885</td>\n",
       "      <td>1.000000</td>\n",
       "      <td>0.291657</td>\n",
       "      <td>0.053319</td>\n",
       "    </tr>\n",
       "    <tr>\n",
       "      <th>CreditScore</th>\n",
       "      <td>0.214485</td>\n",
       "      <td>0.291657</td>\n",
       "      <td>1.000000</td>\n",
       "      <td>0.101963</td>\n",
       "    </tr>\n",
       "    <tr>\n",
       "      <th>Income</th>\n",
       "      <td>0.179717</td>\n",
       "      <td>0.053319</td>\n",
       "      <td>0.101963</td>\n",
       "      <td>1.000000</td>\n",
       "    </tr>\n",
       "  </tbody>\n",
       "</table>\n",
       "</div>"
      ],
      "text/plain": [
       "                   Debt  YearsEmployed  CreditScore    Income\n",
       "Debt           1.000000       0.256885     0.214485  0.179717\n",
       "YearsEmployed  0.256885       1.000000     0.291657  0.053319\n",
       "CreditScore    0.214485       0.291657     1.000000  0.101963\n",
       "Income         0.179717       0.053319     0.101963  1.000000"
      ]
     },
     "execution_count": 139,
     "metadata": {},
     "output_type": "execute_result"
    }
   ],
   "source": [
    "# Correlation matrix\n",
    "\n",
    "cor = df.corr()\n",
    "cor"
   ]
  },
  {
   "cell_type": "code",
   "execution_count": 140,
   "metadata": {},
   "outputs": [
    {
     "data": {
      "text/html": [
       "<div>\n",
       "<style scoped>\n",
       "    .dataframe tbody tr th:only-of-type {\n",
       "        vertical-align: middle;\n",
       "    }\n",
       "\n",
       "    .dataframe tbody tr th {\n",
       "        vertical-align: top;\n",
       "    }\n",
       "\n",
       "    .dataframe thead th {\n",
       "        text-align: right;\n",
       "    }\n",
       "</style>\n",
       "<table border=\"1\" class=\"dataframe\">\n",
       "  <thead>\n",
       "    <tr style=\"text-align: right;\">\n",
       "      <th></th>\n",
       "      <th>Key</th>\n",
       "      <th>Age</th>\n",
       "      <th>Debt</th>\n",
       "      <th>YearsEmployed</th>\n",
       "      <th>CreditScore</th>\n",
       "      <th>Income</th>\n",
       "    </tr>\n",
       "  </thead>\n",
       "  <tbody>\n",
       "    <tr>\n",
       "      <th>Key</th>\n",
       "      <td>1.000000</td>\n",
       "      <td>0.134394</td>\n",
       "      <td>0.178637</td>\n",
       "      <td>0.204040</td>\n",
       "      <td>0.311959</td>\n",
       "      <td>0.173533</td>\n",
       "    </tr>\n",
       "    <tr>\n",
       "      <th>Age</th>\n",
       "      <td>0.134394</td>\n",
       "      <td>1.000000</td>\n",
       "      <td>0.196140</td>\n",
       "      <td>0.549368</td>\n",
       "      <td>0.208317</td>\n",
       "      <td>0.049844</td>\n",
       "    </tr>\n",
       "    <tr>\n",
       "      <th>Debt</th>\n",
       "      <td>0.178637</td>\n",
       "      <td>0.196140</td>\n",
       "      <td>1.000000</td>\n",
       "      <td>0.445359</td>\n",
       "      <td>0.415180</td>\n",
       "      <td>-0.127603</td>\n",
       "    </tr>\n",
       "    <tr>\n",
       "      <th>YearsEmployed</th>\n",
       "      <td>0.204040</td>\n",
       "      <td>0.549368</td>\n",
       "      <td>0.445359</td>\n",
       "      <td>1.000000</td>\n",
       "      <td>0.392507</td>\n",
       "      <td>0.023368</td>\n",
       "    </tr>\n",
       "    <tr>\n",
       "      <th>CreditScore</th>\n",
       "      <td>0.311959</td>\n",
       "      <td>0.208317</td>\n",
       "      <td>0.415180</td>\n",
       "      <td>0.392507</td>\n",
       "      <td>1.000000</td>\n",
       "      <td>-0.027358</td>\n",
       "    </tr>\n",
       "    <tr>\n",
       "      <th>Income</th>\n",
       "      <td>0.173533</td>\n",
       "      <td>0.049844</td>\n",
       "      <td>-0.127603</td>\n",
       "      <td>0.023368</td>\n",
       "      <td>-0.027358</td>\n",
       "      <td>1.000000</td>\n",
       "    </tr>\n",
       "  </tbody>\n",
       "</table>\n",
       "</div>"
      ],
      "text/plain": [
       "                    Key       Age      Debt  YearsEmployed  CreditScore  \\\n",
       "Key            1.000000  0.134394  0.178637       0.204040     0.311959   \n",
       "Age            0.134394  1.000000  0.196140       0.549368     0.208317   \n",
       "Debt           0.178637  0.196140  1.000000       0.445359     0.415180   \n",
       "YearsEmployed  0.204040  0.549368  0.445359       1.000000     0.392507   \n",
       "CreditScore    0.311959  0.208317  0.415180       0.392507     1.000000   \n",
       "Income         0.173533  0.049844 -0.127603       0.023368    -0.027358   \n",
       "\n",
       "                 Income  \n",
       "Key            0.173533  \n",
       "Age            0.049844  \n",
       "Debt          -0.127603  \n",
       "YearsEmployed  0.023368  \n",
       "CreditScore   -0.027358  \n",
       "Income         1.000000  "
      ]
     },
     "execution_count": 140,
     "metadata": {},
     "output_type": "execute_result"
    }
   ],
   "source": [
    "cor = test.corr()\n",
    "cor"
   ]
  },
  {
   "cell_type": "markdown",
   "metadata": {},
   "source": [
    "Age is correlated with YearsEmployed.\n",
    "\n",
    "PriorDefault is correlated with Approved, Employed and CreditScore.\n",
    "\n",
    "BankCustomer is highly correlated with Married.\n",
    "\n",
    "CreditScore is correlated with Employed.\n",
    "\n"
   ]
  },
  {
   "cell_type": "markdown",
   "metadata": {},
   "source": [
    "#### Replacing all  '?' with NaN"
   ]
  },
  {
   "cell_type": "code",
   "execution_count": 141,
   "metadata": {},
   "outputs": [],
   "source": [
    "\n",
    "# Replace the '?'s with NaN\n",
    "\n",
    "df = df.replace(\"?\",np.NaN)\n",
    "\n",
    "\n",
    "test = test.replace(\"?\",np.NaN)"
   ]
  },
  {
   "cell_type": "markdown",
   "metadata": {},
   "source": [
    "#### Checking for missing values"
   ]
  },
  {
   "cell_type": "code",
   "execution_count": 142,
   "metadata": {},
   "outputs": [
    {
     "data": {
      "text/plain": [
       "Male              1.86\n",
       "Age               2.03\n",
       "Debt              0.00\n",
       "Married           1.02\n",
       "BankCustomer      1.02\n",
       "EducationLevel    1.53\n",
       "Ethnicity         1.53\n",
       "YearsEmployed     0.00\n",
       "PriorDefault      0.00\n",
       "Employed          0.00\n",
       "CreditScore       0.00\n",
       "DriversLicense    0.00\n",
       "Income            0.00\n",
       "Approved          0.00\n",
       "dtype: float64"
      ]
     },
     "execution_count": 142,
     "metadata": {},
     "output_type": "execute_result"
    }
   ],
   "source": [
    "#Checking percentage of missing values in columns\n",
    "\n",
    "round(100*(df.isnull().sum()/len(df.index)), 2)"
   ]
  },
  {
   "cell_type": "code",
   "execution_count": 143,
   "metadata": {},
   "outputs": [
    {
     "data": {
      "text/plain": [
       "Key               0.0\n",
       "Male              1.0\n",
       "Age               0.0\n",
       "Debt              0.0\n",
       "Married           0.0\n",
       "BankCustomer      0.0\n",
       "EducationLevel    0.0\n",
       "Ethnicity         0.0\n",
       "YearsEmployed     0.0\n",
       "PriorDefault      0.0\n",
       "Employed          0.0\n",
       "CreditScore       0.0\n",
       "DriversLicense    0.0\n",
       "Income            0.0\n",
       "dtype: float64"
      ]
     },
     "execution_count": 143,
     "metadata": {},
     "output_type": "execute_result"
    }
   ],
   "source": [
    "#Checking percentage of missing values in columns\n",
    "\n",
    "round(100*(test.isnull().sum()/len(test.index)), 2)"
   ]
  },
  {
   "cell_type": "markdown",
   "metadata": {},
   "source": [
    "#### Replacing  NaNs of a column with most frequent value of that column"
   ]
  },
  {
   "cell_type": "code",
   "execution_count": 144,
   "metadata": {},
   "outputs": [
    {
     "name": "stdout",
     "output_type": "stream",
     "text": [
      "0\n"
     ]
    }
   ],
   "source": [
    "# Iterate over each column of df\n",
    "\n",
    "for col in df.columns:\n",
    "    # Check if the column is of object type\n",
    "    if df[col].dtypes == 'object':\n",
    "        # Impute with the most frequent value\n",
    "        df[col] = df[col].fillna(df[col].value_counts().index[0])\n",
    "\n",
    "# Count the number of NaNs in the dataset and print the counts to verify\n",
    "\n",
    "print(df.isnull().values.sum())"
   ]
  },
  {
   "cell_type": "code",
   "execution_count": 145,
   "metadata": {},
   "outputs": [
    {
     "name": "stdout",
     "output_type": "stream",
     "text": [
      "0\n"
     ]
    }
   ],
   "source": [
    "# Iterate over each column of test\n",
    "\n",
    "for col in test.columns:\n",
    "    # Check if the column is of object type\n",
    "    if test[col].dtypes == 'object':\n",
    "        # Impute with the most frequent value\n",
    "        test[col] = test[col].fillna(test[col].value_counts().index[0])\n",
    "\n",
    "# Count the number of NaNs in the dataset and print the counts to verify\n",
    "\n",
    "print(test.isnull().values.sum())"
   ]
  },
  {
   "cell_type": "code",
   "execution_count": 146,
   "metadata": {},
   "outputs": [
    {
     "data": {
      "text/html": [
       "<div>\n",
       "<style scoped>\n",
       "    .dataframe tbody tr th:only-of-type {\n",
       "        vertical-align: middle;\n",
       "    }\n",
       "\n",
       "    .dataframe tbody tr th {\n",
       "        vertical-align: top;\n",
       "    }\n",
       "\n",
       "    .dataframe thead th {\n",
       "        text-align: right;\n",
       "    }\n",
       "</style>\n",
       "<table border=\"1\" class=\"dataframe\">\n",
       "  <thead>\n",
       "    <tr style=\"text-align: right;\">\n",
       "      <th></th>\n",
       "      <th>Male</th>\n",
       "      <th>Age</th>\n",
       "      <th>Debt</th>\n",
       "      <th>Married</th>\n",
       "      <th>BankCustomer</th>\n",
       "      <th>EducationLevel</th>\n",
       "      <th>Ethnicity</th>\n",
       "      <th>YearsEmployed</th>\n",
       "      <th>PriorDefault</th>\n",
       "      <th>Employed</th>\n",
       "      <th>CreditScore</th>\n",
       "      <th>DriversLicense</th>\n",
       "      <th>Income</th>\n",
       "      <th>Approved</th>\n",
       "    </tr>\n",
       "  </thead>\n",
       "  <tbody>\n",
       "    <tr>\n",
       "      <th>0</th>\n",
       "      <td>b</td>\n",
       "      <td>40.83</td>\n",
       "      <td>3.500</td>\n",
       "      <td>u</td>\n",
       "      <td>g</td>\n",
       "      <td>i</td>\n",
       "      <td>bb</td>\n",
       "      <td>0.500</td>\n",
       "      <td>f</td>\n",
       "      <td>f</td>\n",
       "      <td>0</td>\n",
       "      <td>f</td>\n",
       "      <td>0</td>\n",
       "      <td>-</td>\n",
       "    </tr>\n",
       "    <tr>\n",
       "      <th>1</th>\n",
       "      <td>b</td>\n",
       "      <td>32.25</td>\n",
       "      <td>1.500</td>\n",
       "      <td>u</td>\n",
       "      <td>g</td>\n",
       "      <td>c</td>\n",
       "      <td>v</td>\n",
       "      <td>0.250</td>\n",
       "      <td>f</td>\n",
       "      <td>f</td>\n",
       "      <td>0</td>\n",
       "      <td>t</td>\n",
       "      <td>122</td>\n",
       "      <td>-</td>\n",
       "    </tr>\n",
       "    <tr>\n",
       "      <th>2</th>\n",
       "      <td>b</td>\n",
       "      <td>28.17</td>\n",
       "      <td>0.585</td>\n",
       "      <td>u</td>\n",
       "      <td>g</td>\n",
       "      <td>aa</td>\n",
       "      <td>v</td>\n",
       "      <td>0.040</td>\n",
       "      <td>f</td>\n",
       "      <td>f</td>\n",
       "      <td>0</td>\n",
       "      <td>f</td>\n",
       "      <td>1004</td>\n",
       "      <td>-</td>\n",
       "    </tr>\n",
       "    <tr>\n",
       "      <th>3</th>\n",
       "      <td>b</td>\n",
       "      <td>29.75</td>\n",
       "      <td>0.665</td>\n",
       "      <td>u</td>\n",
       "      <td>g</td>\n",
       "      <td>w</td>\n",
       "      <td>v</td>\n",
       "      <td>0.250</td>\n",
       "      <td>f</td>\n",
       "      <td>f</td>\n",
       "      <td>0</td>\n",
       "      <td>t</td>\n",
       "      <td>0</td>\n",
       "      <td>-</td>\n",
       "    </tr>\n",
       "    <tr>\n",
       "      <th>4</th>\n",
       "      <td>b</td>\n",
       "      <td>26.5</td>\n",
       "      <td>2.710</td>\n",
       "      <td>y</td>\n",
       "      <td>p</td>\n",
       "      <td>c</td>\n",
       "      <td>v</td>\n",
       "      <td>0.085</td>\n",
       "      <td>f</td>\n",
       "      <td>f</td>\n",
       "      <td>0</td>\n",
       "      <td>f</td>\n",
       "      <td>0</td>\n",
       "      <td>-</td>\n",
       "    </tr>\n",
       "  </tbody>\n",
       "</table>\n",
       "</div>"
      ],
      "text/plain": [
       "  Male    Age   Debt Married BankCustomer EducationLevel Ethnicity  \\\n",
       "0    b  40.83  3.500       u            g              i        bb   \n",
       "1    b  32.25  1.500       u            g              c         v   \n",
       "2    b  28.17  0.585       u            g             aa         v   \n",
       "3    b  29.75  0.665       u            g              w         v   \n",
       "4    b   26.5  2.710       y            p              c         v   \n",
       "\n",
       "   YearsEmployed PriorDefault Employed  CreditScore DriversLicense  Income  \\\n",
       "0          0.500            f        f            0              f       0   \n",
       "1          0.250            f        f            0              t     122   \n",
       "2          0.040            f        f            0              f    1004   \n",
       "3          0.250            f        f            0              t       0   \n",
       "4          0.085            f        f            0              f       0   \n",
       "\n",
       "  Approved  \n",
       "0        -  \n",
       "1        -  \n",
       "2        -  \n",
       "3        -  \n",
       "4        -  "
      ]
     },
     "execution_count": 146,
     "metadata": {},
     "output_type": "execute_result"
    }
   ],
   "source": [
    "df.head()"
   ]
  },
  {
   "cell_type": "code",
   "execution_count": 147,
   "metadata": {},
   "outputs": [
    {
     "data": {
      "text/html": [
       "<div>\n",
       "<style scoped>\n",
       "    .dataframe tbody tr th:only-of-type {\n",
       "        vertical-align: middle;\n",
       "    }\n",
       "\n",
       "    .dataframe tbody tr th {\n",
       "        vertical-align: top;\n",
       "    }\n",
       "\n",
       "    .dataframe thead th {\n",
       "        text-align: right;\n",
       "    }\n",
       "</style>\n",
       "<table border=\"1\" class=\"dataframe\">\n",
       "  <thead>\n",
       "    <tr style=\"text-align: right;\">\n",
       "      <th></th>\n",
       "      <th>Key</th>\n",
       "      <th>Male</th>\n",
       "      <th>Age</th>\n",
       "      <th>Debt</th>\n",
       "      <th>Married</th>\n",
       "      <th>BankCustomer</th>\n",
       "      <th>EducationLevel</th>\n",
       "      <th>Ethnicity</th>\n",
       "      <th>YearsEmployed</th>\n",
       "      <th>PriorDefault</th>\n",
       "      <th>Employed</th>\n",
       "      <th>CreditScore</th>\n",
       "      <th>DriversLicense</th>\n",
       "      <th>Income</th>\n",
       "    </tr>\n",
       "  </thead>\n",
       "  <tbody>\n",
       "    <tr>\n",
       "      <th>0</th>\n",
       "      <td>1</td>\n",
       "      <td>b</td>\n",
       "      <td>31.83</td>\n",
       "      <td>0.04</td>\n",
       "      <td>y</td>\n",
       "      <td>p</td>\n",
       "      <td>m</td>\n",
       "      <td>v</td>\n",
       "      <td>0.040</td>\n",
       "      <td>f</td>\n",
       "      <td>f</td>\n",
       "      <td>0</td>\n",
       "      <td>f</td>\n",
       "      <td>0</td>\n",
       "    </tr>\n",
       "    <tr>\n",
       "      <th>1</th>\n",
       "      <td>2</td>\n",
       "      <td>a</td>\n",
       "      <td>21.75</td>\n",
       "      <td>11.75</td>\n",
       "      <td>u</td>\n",
       "      <td>g</td>\n",
       "      <td>c</td>\n",
       "      <td>v</td>\n",
       "      <td>0.250</td>\n",
       "      <td>f</td>\n",
       "      <td>f</td>\n",
       "      <td>0</td>\n",
       "      <td>t</td>\n",
       "      <td>0</td>\n",
       "    </tr>\n",
       "    <tr>\n",
       "      <th>2</th>\n",
       "      <td>3</td>\n",
       "      <td>a</td>\n",
       "      <td>17.92</td>\n",
       "      <td>0.54</td>\n",
       "      <td>u</td>\n",
       "      <td>g</td>\n",
       "      <td>c</td>\n",
       "      <td>v</td>\n",
       "      <td>1.750</td>\n",
       "      <td>f</td>\n",
       "      <td>t</td>\n",
       "      <td>1</td>\n",
       "      <td>t</td>\n",
       "      <td>5</td>\n",
       "    </tr>\n",
       "    <tr>\n",
       "      <th>3</th>\n",
       "      <td>4</td>\n",
       "      <td>b</td>\n",
       "      <td>30.33</td>\n",
       "      <td>0.50</td>\n",
       "      <td>u</td>\n",
       "      <td>g</td>\n",
       "      <td>d</td>\n",
       "      <td>h</td>\n",
       "      <td>0.085</td>\n",
       "      <td>f</td>\n",
       "      <td>f</td>\n",
       "      <td>0</td>\n",
       "      <td>t</td>\n",
       "      <td>0</td>\n",
       "    </tr>\n",
       "    <tr>\n",
       "      <th>4</th>\n",
       "      <td>5</td>\n",
       "      <td>b</td>\n",
       "      <td>51.83</td>\n",
       "      <td>2.04</td>\n",
       "      <td>y</td>\n",
       "      <td>p</td>\n",
       "      <td>ff</td>\n",
       "      <td>ff</td>\n",
       "      <td>1.500</td>\n",
       "      <td>f</td>\n",
       "      <td>f</td>\n",
       "      <td>0</td>\n",
       "      <td>f</td>\n",
       "      <td>1</td>\n",
       "    </tr>\n",
       "  </tbody>\n",
       "</table>\n",
       "</div>"
      ],
      "text/plain": [
       "   Key Male    Age   Debt Married BankCustomer EducationLevel Ethnicity  \\\n",
       "0    1    b  31.83   0.04       y            p              m         v   \n",
       "1    2    a  21.75  11.75       u            g              c         v   \n",
       "2    3    a  17.92   0.54       u            g              c         v   \n",
       "3    4    b  30.33   0.50       u            g              d         h   \n",
       "4    5    b  51.83   2.04       y            p             ff        ff   \n",
       "\n",
       "   YearsEmployed PriorDefault Employed  CreditScore DriversLicense  Income  \n",
       "0          0.040            f        f            0              f       0  \n",
       "1          0.250            f        f            0              t       0  \n",
       "2          1.750            f        t            1              t       5  \n",
       "3          0.085            f        f            0              t       0  \n",
       "4          1.500            f        f            0              f       1  "
      ]
     },
     "execution_count": 147,
     "metadata": {},
     "output_type": "execute_result"
    }
   ],
   "source": [
    "test.head()"
   ]
  },
  {
   "cell_type": "code",
   "execution_count": 148,
   "metadata": {},
   "outputs": [],
   "source": [
    "df['Age'] = df['Age'].astype(np.float64)"
   ]
  },
  {
   "cell_type": "code",
   "execution_count": 149,
   "metadata": {},
   "outputs": [],
   "source": [
    " df['Age'] = df['Age'].apply(np.int64)"
   ]
  },
  {
   "cell_type": "code",
   "execution_count": 150,
   "metadata": {},
   "outputs": [],
   "source": [
    " test['Age'] = test['Age'].apply(np.int64)"
   ]
  },
  {
   "cell_type": "code",
   "execution_count": 151,
   "metadata": {},
   "outputs": [
    {
     "name": "stdout",
     "output_type": "stream",
     "text": [
      "  Male  Age   Debt Married BankCustomer EducationLevel Ethnicity  \\\n",
      "0    b   40  3.500       u            g              i        bb   \n",
      "1    b   32  1.500       u            g              c         v   \n",
      "2    b   28  0.585       u            g             aa         v   \n",
      "3    b   29  0.665       u            g              w         v   \n",
      "4    b   26  2.710       y            p              c         v   \n",
      "\n",
      "   YearsEmployed PriorDefault Employed  CreditScore DriversLicense  Income  \\\n",
      "0          0.500            f        f            0              f       0   \n",
      "1          0.250            f        f            0              t     122   \n",
      "2          0.040            f        f            0              f    1004   \n",
      "3          0.250            f        f            0              t       0   \n",
      "4          0.085            f        f            0              f       0   \n",
      "\n",
      "  Approved  \n",
      "0        -  \n",
      "1        -  \n",
      "2        -  \n",
      "3        -  \n",
      "4        -  \n",
      "Index(['Male', 'Age', 'Debt', 'Married', 'BankCustomer', 'EducationLevel',\n",
      "       'Ethnicity', 'YearsEmployed', 'PriorDefault', 'Employed', 'CreditScore',\n",
      "       'DriversLicense', 'Income', 'Approved'],\n",
      "      dtype='object')\n",
      "(590, 14)\n"
     ]
    }
   ],
   "source": [
    "print(df.head())\n",
    "print(df.columns)\n",
    "print(df.shape)"
   ]
  },
  {
   "cell_type": "code",
   "execution_count": 152,
   "metadata": {},
   "outputs": [
    {
     "name": "stdout",
     "output_type": "stream",
     "text": [
      "   Key Male  Age   Debt Married BankCustomer EducationLevel Ethnicity  \\\n",
      "0    1    b   31   0.04       y            p              m         v   \n",
      "1    2    a   21  11.75       u            g              c         v   \n",
      "2    3    a   17   0.54       u            g              c         v   \n",
      "3    4    b   30   0.50       u            g              d         h   \n",
      "4    5    b   51   2.04       y            p             ff        ff   \n",
      "\n",
      "   YearsEmployed PriorDefault Employed  CreditScore DriversLicense  Income  \n",
      "0          0.040            f        f            0              f       0  \n",
      "1          0.250            f        f            0              t       0  \n",
      "2          1.750            f        t            1              t       5  \n",
      "3          0.085            f        f            0              t       0  \n",
      "4          1.500            f        f            0              f       1  \n",
      "Index(['Key', 'Male', 'Age', 'Debt', 'Married', 'BankCustomer',\n",
      "       'EducationLevel', 'Ethnicity', 'YearsEmployed', 'PriorDefault',\n",
      "       'Employed', 'CreditScore', 'DriversLicense', 'Income'],\n",
      "      dtype='object')\n",
      "(100, 14)\n"
     ]
    }
   ],
   "source": [
    "print(test.head())\n",
    "print(test.columns)\n",
    "print(test.shape)"
   ]
  },
  {
   "cell_type": "markdown",
   "metadata": {},
   "source": [
    "#### Checking Countplots for Categorical Features"
   ]
  },
  {
   "cell_type": "code",
   "execution_count": 153,
   "metadata": {},
   "outputs": [
    {
     "data": {
      "text/plain": [
       "<matplotlib.axes._subplots.AxesSubplot at 0x1bd9e78fef0>"
      ]
     },
     "execution_count": 153,
     "metadata": {},
     "output_type": "execute_result"
    },
    {
     "data": {
      "image/png": "[encoded data removed]",
      "text/plain": [
       "<Figure size 720x720 with 8 Axes>"
      ]
     },
     "metadata": {},
     "output_type": "display_data"
    }
   ],
   "source": [
    "#Drawing the countplot \n",
    "\n",
    "plt.figure(figsize=(10,10))\n",
    "plt.subplot(3,3,1)\n",
    "sns.countplot(x=\"Married\",data=df)\n",
    "plt.subplot(3,3,2)\n",
    "sns.countplot(x=\"Ethnicity\",data=df)\n",
    "plt.subplot(3,3,3)\n",
    "sns.countplot(x=\"EducationLevel\",data=df)\n",
    "plt.subplot(3,3,4)\n",
    "sns.countplot(x=\"DriversLicense\",data=df)\n",
    "\n",
    "plt.subplot(3,3,5)\n",
    "sns.countplot(x=\"BankCustomer\",data=df)\n",
    "plt.subplot(3,3,6)\n",
    "sns.countplot(x=\"PriorDefault\",data=df)\n",
    "\n",
    "plt.subplot(3,3,7)\n",
    "sns.countplot(x=\"Employed\",data=df)\n",
    "\n",
    "plt.subplot(3,3,8)\n",
    "sns.countplot(x=\"CreditScore\",data=df)"
   ]
  },
  {
   "cell_type": "code",
   "execution_count": 154,
   "metadata": {},
   "outputs": [
    {
     "data": {
      "text/plain": [
       "<matplotlib.axes._subplots.AxesSubplot at 0x1bda0528518>"
      ]
     },
     "execution_count": 154,
     "metadata": {},
     "output_type": "execute_result"
    },
    {
     "data": {
      "image/png": "[encoded data removed]",
      "text/plain": [
       "<Figure size 720x720 with 8 Axes>"
      ]
     },
     "metadata": {},
     "output_type": "display_data"
    }
   ],
   "source": [
    "#Drawing the countplot \n",
    "\n",
    "plt.figure(figsize=(10,10))\n",
    "plt.subplot(3,3,1)\n",
    "sns.countplot(x=\"Married\",data=test)\n",
    "plt.subplot(3,3,2)\n",
    "sns.countplot(x=\"Ethnicity\",data=test)\n",
    "plt.subplot(3,3,3)\n",
    "sns.countplot(x=\"EducationLevel\",data=test)\n",
    "plt.subplot(3,3,4)\n",
    "sns.countplot(x=\"DriversLicense\",data=test)\n",
    "\n",
    "plt.subplot(3,3,5)\n",
    "sns.countplot(x=\"BankCustomer\",data=test)\n",
    "plt.subplot(3,3,6)\n",
    "sns.countplot(x=\"PriorDefault\",data=test)\n",
    "\n",
    "plt.subplot(3,3,7)\n",
    "sns.countplot(x=\"Employed\",data=test)\n",
    "\n",
    "plt.subplot(3,3,8)\n",
    "sns.countplot(x=\"CreditScore\",data=test)"
   ]
  },
  {
   "cell_type": "code",
   "execution_count": 155,
   "metadata": {},
   "outputs": [],
   "source": [
    "df1=df"
   ]
  },
  {
   "cell_type": "code",
   "execution_count": 156,
   "metadata": {},
   "outputs": [],
   "source": [
    "df1['Approved']= df['Approved']"
   ]
  },
  {
   "cell_type": "code",
   "execution_count": 157,
   "metadata": {},
   "outputs": [],
   "source": [
    "df= df.drop(['Approved'], 1)"
   ]
  },
  {
   "cell_type": "markdown",
   "metadata": {},
   "source": [
    "### For Categorical variables with multiple levels, applying Label Encoding "
   ]
  },
  {
   "cell_type": "code",
   "execution_count": 158,
   "metadata": {},
   "outputs": [],
   "source": [
    "\n",
    "# Instantiate LabelEncoder\n",
    "\n",
    "le = LabelEncoder()\n",
    "\n",
    "# Iterate over all the values of each column and extract their dtypes\n",
    "for col in df.columns:\n",
    "    # Compare if the dtype is object\n",
    "    if df[col].dtype=='object':\n",
    "    # Use LabelEncoder to do the numeric transformation\n",
    "        df[col]=le.fit_transform(df[col])"
   ]
  },
  {
   "cell_type": "code",
   "execution_count": 159,
   "metadata": {},
   "outputs": [],
   "source": [
    "# Instantiate LabelEncoder\n",
    "\n",
    "le = LabelEncoder()\n",
    "\n",
    "# Iterate over all the values of each column and extract their dtypes\n",
    "for col in test.columns:\n",
    "    # Compare if the dtype is object\n",
    "    if test[col].dtype=='object':\n",
    "    # Use LabelEncoder to do the numeric transformation\n",
    "        test[col]=le.fit_transform(test[col])"
   ]
  },
  {
   "cell_type": "markdown",
   "metadata": {},
   "source": [
    "#### Replacing + with Yes and  -  with No in 'Approved' (Target) Column"
   ]
  },
  {
   "cell_type": "code",
   "execution_count": 160,
   "metadata": {},
   "outputs": [],
   "source": [
    "df['Approved'] = df1['Approved'].replace({\"+\": 't', '-':'f'})"
   ]
  },
  {
   "cell_type": "markdown",
   "metadata": {},
   "source": [
    "#### Binary Mapping to 'Approved' Column: + is assigned to 1 & - is assigned to 0 "
   ]
  },
  {
   "cell_type": "code",
   "execution_count": 161,
   "metadata": {},
   "outputs": [],
   "source": [
    "\n",
    "\n",
    "var =  ['Approved']\n",
    "\n",
    "# Defining the map function\n",
    "def binary_map(x):\n",
    "    return x.map({'t': 1, 'f': 0})\n",
    "\n",
    "# Applying the function to the  list\n",
    "\n",
    "df[var] = df[var].apply(binary_map)"
   ]
  },
  {
   "cell_type": "code",
   "execution_count": 162,
   "metadata": {},
   "outputs": [
    {
     "data": {
      "text/html": [
       "<div>\n",
       "<style scoped>\n",
       "    .dataframe tbody tr th:only-of-type {\n",
       "        vertical-align: middle;\n",
       "    }\n",
       "\n",
       "    .dataframe tbody tr th {\n",
       "        vertical-align: top;\n",
       "    }\n",
       "\n",
       "    .dataframe thead th {\n",
       "        text-align: right;\n",
       "    }\n",
       "</style>\n",
       "<table border=\"1\" class=\"dataframe\">\n",
       "  <thead>\n",
       "    <tr style=\"text-align: right;\">\n",
       "      <th></th>\n",
       "      <th>Male</th>\n",
       "      <th>Age</th>\n",
       "      <th>Debt</th>\n",
       "      <th>Married</th>\n",
       "      <th>BankCustomer</th>\n",
       "      <th>EducationLevel</th>\n",
       "      <th>Ethnicity</th>\n",
       "      <th>YearsEmployed</th>\n",
       "      <th>PriorDefault</th>\n",
       "      <th>Employed</th>\n",
       "      <th>CreditScore</th>\n",
       "      <th>DriversLicense</th>\n",
       "      <th>Income</th>\n",
       "      <th>Approved</th>\n",
       "    </tr>\n",
       "  </thead>\n",
       "  <tbody>\n",
       "    <tr>\n",
       "      <th>0</th>\n",
       "      <td>1</td>\n",
       "      <td>40</td>\n",
       "      <td>3.500</td>\n",
       "      <td>1</td>\n",
       "      <td>0</td>\n",
       "      <td>6</td>\n",
       "      <td>0</td>\n",
       "      <td>0.500</td>\n",
       "      <td>0</td>\n",
       "      <td>0</td>\n",
       "      <td>0</td>\n",
       "      <td>0</td>\n",
       "      <td>0</td>\n",
       "      <td>0</td>\n",
       "    </tr>\n",
       "    <tr>\n",
       "      <th>1</th>\n",
       "      <td>1</td>\n",
       "      <td>32</td>\n",
       "      <td>1.500</td>\n",
       "      <td>1</td>\n",
       "      <td>0</td>\n",
       "      <td>1</td>\n",
       "      <td>7</td>\n",
       "      <td>0.250</td>\n",
       "      <td>0</td>\n",
       "      <td>0</td>\n",
       "      <td>0</td>\n",
       "      <td>1</td>\n",
       "      <td>122</td>\n",
       "      <td>0</td>\n",
       "    </tr>\n",
       "    <tr>\n",
       "      <th>2</th>\n",
       "      <td>1</td>\n",
       "      <td>28</td>\n",
       "      <td>0.585</td>\n",
       "      <td>1</td>\n",
       "      <td>0</td>\n",
       "      <td>0</td>\n",
       "      <td>7</td>\n",
       "      <td>0.040</td>\n",
       "      <td>0</td>\n",
       "      <td>0</td>\n",
       "      <td>0</td>\n",
       "      <td>0</td>\n",
       "      <td>1004</td>\n",
       "      <td>0</td>\n",
       "    </tr>\n",
       "    <tr>\n",
       "      <th>3</th>\n",
       "      <td>1</td>\n",
       "      <td>29</td>\n",
       "      <td>0.665</td>\n",
       "      <td>1</td>\n",
       "      <td>0</td>\n",
       "      <td>12</td>\n",
       "      <td>7</td>\n",
       "      <td>0.250</td>\n",
       "      <td>0</td>\n",
       "      <td>0</td>\n",
       "      <td>0</td>\n",
       "      <td>1</td>\n",
       "      <td>0</td>\n",
       "      <td>0</td>\n",
       "    </tr>\n",
       "    <tr>\n",
       "      <th>4</th>\n",
       "      <td>1</td>\n",
       "      <td>26</td>\n",
       "      <td>2.710</td>\n",
       "      <td>2</td>\n",
       "      <td>2</td>\n",
       "      <td>1</td>\n",
       "      <td>7</td>\n",
       "      <td>0.085</td>\n",
       "      <td>0</td>\n",
       "      <td>0</td>\n",
       "      <td>0</td>\n",
       "      <td>0</td>\n",
       "      <td>0</td>\n",
       "      <td>0</td>\n",
       "    </tr>\n",
       "  </tbody>\n",
       "</table>\n",
       "</div>"
      ],
      "text/plain": [
       "   Male  Age   Debt  Married  BankCustomer  EducationLevel  Ethnicity  \\\n",
       "0     1   40  3.500        1             0               6          0   \n",
       "1     1   32  1.500        1             0               1          7   \n",
       "2     1   28  0.585        1             0               0          7   \n",
       "3     1   29  0.665        1             0              12          7   \n",
       "4     1   26  2.710        2             2               1          7   \n",
       "\n",
       "   YearsEmployed  PriorDefault  Employed  CreditScore  DriversLicense  Income  \\\n",
       "0          0.500             0         0            0               0       0   \n",
       "1          0.250             0         0            0               1     122   \n",
       "2          0.040             0         0            0               0    1004   \n",
       "3          0.250             0         0            0               1       0   \n",
       "4          0.085             0         0            0               0       0   \n",
       "\n",
       "   Approved  \n",
       "0         0  \n",
       "1         0  \n",
       "2         0  \n",
       "3         0  \n",
       "4         0  "
      ]
     },
     "execution_count": 162,
     "metadata": {},
     "output_type": "execute_result"
    }
   ],
   "source": [
    "df.head()"
   ]
  },
  {
   "cell_type": "code",
   "execution_count": 163,
   "metadata": {},
   "outputs": [
    {
     "data": {
      "text/plain": [
       "Index(['Male', 'Age', 'Debt', 'Married', 'BankCustomer', 'EducationLevel',\n",
       "       'Ethnicity', 'YearsEmployed', 'PriorDefault', 'Employed', 'CreditScore',\n",
       "       'DriversLicense', 'Income', 'Approved'],\n",
       "      dtype='object')"
      ]
     },
     "execution_count": 163,
     "metadata": {},
     "output_type": "execute_result"
    }
   ],
   "source": [
    "df.columns"
   ]
  },
  {
   "cell_type": "code",
   "execution_count": 164,
   "metadata": {},
   "outputs": [
    {
     "data": {
      "text/plain": [
       "(590, 14)"
      ]
     },
     "execution_count": 164,
     "metadata": {},
     "output_type": "execute_result"
    }
   ],
   "source": [
    "df.shape"
   ]
  },
  {
   "cell_type": "code",
   "execution_count": 165,
   "metadata": {},
   "outputs": [
    {
     "name": "stdout",
     "output_type": "stream",
     "text": [
      "(100, 14)\n",
      "   Key  Male  Age   Debt  Married  BankCustomer  EducationLevel  Ethnicity  \\\n",
      "0    1     1   31   0.04        1             1               8          3   \n",
      "1    2     0   21  11.75        0             0               1          3   \n",
      "2    3     0   17   0.54        0             0               1          3   \n",
      "3    4     1   30   0.50        0             0               3          2   \n",
      "4    5     1   51   2.04        1             1               5          1   \n",
      "\n",
      "   YearsEmployed  PriorDefault  Employed  CreditScore  DriversLicense  Income  \n",
      "0          0.040             0         0            0               0       0  \n",
      "1          0.250             0         0            0               1       0  \n",
      "2          1.750             0         1            1               1       5  \n",
      "3          0.085             0         0            0               1       0  \n",
      "4          1.500             0         0            0               0       1  \n",
      "Index(['Key', 'Male', 'Age', 'Debt', 'Married', 'BankCustomer',\n",
      "       'EducationLevel', 'Ethnicity', 'YearsEmployed', 'PriorDefault',\n",
      "       'Employed', 'CreditScore', 'DriversLicense', 'Income'],\n",
      "      dtype='object')\n"
     ]
    }
   ],
   "source": [
    "print(test.shape)\n",
    "print(test.head())\n",
    "print(test.columns)"
   ]
  },
  {
   "cell_type": "markdown",
   "metadata": {},
   "source": [
    "### Checking the Outliers "
   ]
  },
  {
   "cell_type": "code",
   "execution_count": 166,
   "metadata": {},
   "outputs": [
    {
     "data": {
      "text/plain": [
       "<matplotlib.axes._subplots.AxesSubplot at 0x1bd9ec06b38>"
      ]
     },
     "execution_count": 166,
     "metadata": {},
     "output_type": "execute_result"
    },
    {
     "data": {
      "image/png": "[encoded data removed]",
      "text/plain": [
       "<Figure size 720x720 with 1 Axes>"
      ]
     },
     "metadata": {},
     "output_type": "display_data"
    }
   ],
   "source": [
    "df.boxplot('Income')"
   ]
  },
  {
   "cell_type": "code",
   "execution_count": 167,
   "metadata": {},
   "outputs": [
    {
     "data": {
      "text/plain": [
       "<matplotlib.axes._subplots.AxesSubplot at 0x1bda065b438>"
      ]
     },
     "execution_count": 167,
     "metadata": {},
     "output_type": "execute_result"
    },
    {
     "data": {
      "image/png": "[encoded data removed]",
      "text/plain": [
       "<Figure size 720x720 with 1 Axes>"
      ]
     },
     "metadata": {},
     "output_type": "display_data"
    }
   ],
   "source": [
    "test.boxplot('Income')"
   ]
  },
  {
   "cell_type": "code",
   "execution_count": 168,
   "metadata": {},
   "outputs": [
    {
     "data": {
      "image/png": "[encoded data removed]",
      "text/plain": [
       "<Figure size 720x720 with 1 Axes>"
      ]
     },
     "metadata": {},
     "output_type": "display_data"
    }
   ],
   "source": [
    "sns.distplot(df['Income'])\n",
    "plt.show()"
   ]
  },
  {
   "cell_type": "code",
   "execution_count": 169,
   "metadata": {},
   "outputs": [
    {
     "data": {
      "image/png": "[encoded data removed]",
      "text/plain": [
       "<Figure size 720x720 with 1 Axes>"
      ]
     },
     "metadata": {},
     "output_type": "display_data"
    }
   ],
   "source": [
    "sns.distplot(test['Income'])\n",
    "plt.show()"
   ]
  },
  {
   "cell_type": "code",
   "execution_count": 170,
   "metadata": {},
   "outputs": [
    {
     "data": {
      "image/png": "[encoded data removed]",
      "text/plain": [
       "<Figure size 720x720 with 1 Axes>"
      ]
     },
     "metadata": {},
     "output_type": "display_data"
    }
   ],
   "source": [
    "sns.distplot(df['Debt'])\n",
    "plt.show()"
   ]
  },
  {
   "cell_type": "code",
   "execution_count": 171,
   "metadata": {},
   "outputs": [
    {
     "data": {
      "image/png": "[encoded data removed]",
      "text/plain": [
       "<Figure size 720x720 with 1 Axes>"
      ]
     },
     "metadata": {},
     "output_type": "display_data"
    }
   ],
   "source": [
    "sns.distplot(test['Debt'])\n",
    "plt.show()"
   ]
  },
  {
   "cell_type": "code",
   "execution_count": 172,
   "metadata": {},
   "outputs": [
    {
     "data": {
      "image/png": "[encoded data removed]",
      "text/plain": [
       "<Figure size 720x720 with 1 Axes>"
      ]
     },
     "metadata": {},
     "output_type": "display_data"
    }
   ],
   "source": [
    "sns.distplot(df['YearsEmployed'])\n",
    "plt.show()"
   ]
  },
  {
   "cell_type": "code",
   "execution_count": 173,
   "metadata": {},
   "outputs": [
    {
     "data": {
      "image/png": "[encoded data removed]",
      "text/plain": [
       "<Figure size 720x720 with 1 Axes>"
      ]
     },
     "metadata": {},
     "output_type": "display_data"
    }
   ],
   "source": [
    "sns.distplot(test['YearsEmployed'])\n",
    "plt.show()"
   ]
  },
  {
   "cell_type": "code",
   "execution_count": 174,
   "metadata": {},
   "outputs": [
    {
     "data": {
      "image/png": "[encoded data removed]",
      "text/plain": [
       "<Figure size 720x720 with 1 Axes>"
      ]
     },
     "metadata": {},
     "output_type": "display_data"
    }
   ],
   "source": [
    "sns.distplot(df['Age'])\n",
    "plt.show()"
   ]
  },
  {
   "cell_type": "code",
   "execution_count": 175,
   "metadata": {},
   "outputs": [
    {
     "data": {
      "image/png": "[encoded data removed]",
      "text/plain": [
       "<Figure size 720x720 with 1 Axes>"
      ]
     },
     "metadata": {},
     "output_type": "display_data"
    }
   ],
   "source": [
    "sns.distplot(test['YearsEmployed'])\n",
    "plt.show()"
   ]
  },
  {
   "cell_type": "markdown",
   "metadata": {},
   "source": [
    "Distribution is skewed !!!!"
   ]
  },
  {
   "cell_type": "markdown",
   "metadata": {},
   "source": [
    "#### Caping the Outliers of Income Column above 99 percentile"
   ]
  },
  {
   "cell_type": "code",
   "execution_count": 176,
   "metadata": {},
   "outputs": [
    {
     "data": {
      "text/plain": [
       "(584, 14)"
      ]
     },
     "execution_count": 176,
     "metadata": {},
     "output_type": "execute_result"
    }
   ],
   "source": [
    "#Removing top Outliers from 'Income'\n",
    "\n",
    "\n",
    "Q = df.Income.quantile(0.99)\n",
    "df= df[~(df.Income > Q)]\n",
    "\n",
    "df.shape"
   ]
  },
  {
   "cell_type": "code",
   "execution_count": 177,
   "metadata": {},
   "outputs": [
    {
     "data": {
      "text/plain": [
       "(100, 14)"
      ]
     },
     "execution_count": 177,
     "metadata": {},
     "output_type": "execute_result"
    }
   ],
   "source": [
    "#Removing top Outliers from 'Income'\n",
    "\n",
    "\n",
    "#Q = test.Income.quantile(0.99)\n",
    "#test= test[~(test.Income > Q)]\n",
    "\n",
    "test.shape"
   ]
  },
  {
   "cell_type": "code",
   "execution_count": 178,
   "metadata": {},
   "outputs": [
    {
     "data": {
      "image/png": "[encoded data removed]",
      "text/plain": [
       "<Figure size 720x720 with 1 Axes>"
      ]
     },
     "metadata": {},
     "output_type": "display_data"
    }
   ],
   "source": [
    "sns.distplot(df['Income'])\n",
    "plt.show()"
   ]
  },
  {
   "cell_type": "code",
   "execution_count": 179,
   "metadata": {},
   "outputs": [
    {
     "data": {
      "text/plain": [
       "Index(['Male', 'Age', 'Debt', 'Married', 'BankCustomer', 'EducationLevel',\n",
       "       'Ethnicity', 'YearsEmployed', 'PriorDefault', 'Employed', 'CreditScore',\n",
       "       'DriversLicense', 'Income', 'Approved'],\n",
       "      dtype='object')"
      ]
     },
     "execution_count": 179,
     "metadata": {},
     "output_type": "execute_result"
    }
   ],
   "source": [
    "df.columns"
   ]
  },
  {
   "cell_type": "code",
   "execution_count": 180,
   "metadata": {},
   "outputs": [
    {
     "data": {
      "text/plain": [
       "Index(['Key', 'Male', 'Age', 'Debt', 'Married', 'BankCustomer',\n",
       "       'EducationLevel', 'Ethnicity', 'YearsEmployed', 'PriorDefault',\n",
       "       'Employed', 'CreditScore', 'DriversLicense', 'Income'],\n",
       "      dtype='object')"
      ]
     },
     "execution_count": 180,
     "metadata": {},
     "output_type": "execute_result"
    }
   ],
   "source": [
    "test.columns"
   ]
  },
  {
   "cell_type": "markdown",
   "metadata": {},
   "source": [
    "### Step 4:  Train_Test Split "
   ]
  },
  {
   "cell_type": "code",
   "execution_count": 181,
   "metadata": {},
   "outputs": [],
   "source": [
    "\n",
    "# Segregate features and labels into separate variables\n",
    "\n",
    "X = df.drop(['Approved'], axis=1)\n",
    "\n",
    "y = df['Approved']\n"
   ]
  },
  {
   "cell_type": "code",
   "execution_count": 182,
   "metadata": {},
   "outputs": [],
   "source": [
    "# Import train_test_split\n",
    "\n",
    "from sklearn.model_selection import train_test_split\n",
    "\n",
    "# Split into train and test sets\n",
    "X_train, X_test, y_train, y_test = train_test_split(X, y, test_size = 0.25, random_state = 4, stratify = y)"
   ]
  },
  {
   "cell_type": "code",
   "execution_count": 183,
   "metadata": {},
   "outputs": [
    {
     "name": "stdout",
     "output_type": "stream",
     "text": [
      "(438, 13)\n",
      "(438,)\n",
      "(146, 13)\n",
      "(146,)\n"
     ]
    }
   ],
   "source": [
    "# print shapes of train and test sets\n",
    "print(X_train.shape)\n",
    "print(y_train.shape)\n",
    "print(X_test.shape)\n",
    "print(y_test.shape)"
   ]
  },
  {
   "cell_type": "code",
   "execution_count": 184,
   "metadata": {},
   "outputs": [
    {
     "data": {
      "text/plain": [
       "38.6986301369863"
      ]
     },
     "execution_count": 184,
     "metadata": {},
     "output_type": "execute_result"
    }
   ],
   "source": [
    "### Checking the Approved Rate\n",
    "\n",
    "\n",
    "Approved = (sum(df['Approved'])/len(df['Approved'].index))*100\n",
    "Approved"
   ]
  },
  {
   "cell_type": "markdown",
   "metadata": {},
   "source": [
    "#### This is a Balanced Dataset With No Class Imbalance. So we are good to go!!!"
   ]
  },
  {
   "cell_type": "code",
   "execution_count": 185,
   "metadata": {},
   "outputs": [],
   "source": [
    "# import required libraries\n",
    "from sklearn.model_selection import train_test_split\n",
    "from sklearn.pipeline import Pipeline\n",
    "from sklearn.decomposition import PCA\n",
    "from sklearn.preprocessing import StandardScaler\n",
    "from sklearn.pipeline import FeatureUnion\n",
    "from sklearn.base import BaseEstimator, TransformerMixin\n",
    "from sklearn.linear_model import LogisticRegression\n",
    "from sklearn.metrics import classification_report\n",
    "from sklearn.metrics import roc_auc_score\n",
    "#from imblearn.metrics import sensitivity_specificity_support\n",
    "from sklearn.model_selection import StratifiedKFold\n",
    "from sklearn.model_selection import cross_val_score\n",
    "from sklearn.metrics import confusion_matrix\n",
    "from sklearn.model_selection import GridSearchCV\n",
    "from sklearn.ensemble import RandomForestClassifier\n",
    "from sklearn.ensemble import GradientBoostingClassifier\n",
    "from sklearn.svm import SVC\n",
    "from sklearn.metrics import precision_score\n",
    "from sklearn.metrics import recall_score\n",
    "from sklearn.metrics import f1_score"
   ]
  },
  {
   "cell_type": "markdown",
   "metadata": {},
   "source": [
    "### PCA"
   ]
  },
  {
   "cell_type": "code",
   "execution_count": 186,
   "metadata": {},
   "outputs": [],
   "source": [
    "# apply pca to train data\n",
    "pca = Pipeline([('scaler', StandardScaler()), ('pca', PCA())])"
   ]
  },
  {
   "cell_type": "code",
   "execution_count": 187,
   "metadata": {},
   "outputs": [],
   "source": [
    "pca.fit(X_train)\n",
    "df_pca = pca.fit_transform(X_train)"
   ]
  },
  {
   "cell_type": "code",
   "execution_count": 188,
   "metadata": {},
   "outputs": [
    {
     "name": "stdout",
     "output_type": "stream",
     "text": [
      "0      21.74\n",
      "1      34.85\n",
      "2      45.45\n",
      "3      54.21\n",
      "4      62.17\n",
      "5      69.49\n",
      "6      76.30\n",
      "7      82.57\n",
      "8      88.15\n",
      "9      93.36\n",
      "10     97.57\n",
      "11     99.90\n",
      "12    100.00\n",
      "dtype: float64\n"
     ]
    }
   ],
   "source": [
    "# extract pca model from pipeline\n",
    "pca = pca.named_steps['pca']\n",
    "\n",
    "# look at explainded variance of PCA components\n",
    "print(pd.Series(np.round(pca.explained_variance_ratio_.cumsum(), 4)*100))"
   ]
  },
  {
   "cell_type": "code",
   "execution_count": 189,
   "metadata": {},
   "outputs": [
    {
     "data": {
      "text/plain": [
       "[<matplotlib.lines.Line2D at 0x1bda1e48518>]"
      ]
     },
     "execution_count": 189,
     "metadata": {},
     "output_type": "execute_result"
    },
    {
     "data": {
      "image/png": "[encoded data removed]",
      "text/plain": [
       "<Figure size 630x360 with 1 Axes>"
      ]
     },
     "metadata": {},
     "output_type": "display_data"
    }
   ],
   "source": [
    "# plot feature variance\n",
    "# Scree plot\n",
    "\n",
    "features = range(pca.n_components_)\n",
    "cumulative_variance = np.round(np.cumsum(pca.explained_variance_ratio_)*100, decimals=4)\n",
    "plt.figure(figsize=(175/20,100/20)) # 100 elements on y-axis; 175 elements on x-axis; 20 is normalising factor\n",
    "plt.plot(cumulative_variance)"
   ]
  },
  {
   "cell_type": "markdown",
   "metadata": {},
   "source": [
    "### PCA & Logistic Regression "
   ]
  },
  {
   "cell_type": "code",
   "execution_count": 190,
   "metadata": {},
   "outputs": [],
   "source": [
    "# create pipeline\n",
    "PCA_VARS = 10\n",
    "steps = [('scaler', StandardScaler()),\n",
    "         (\"pca\", PCA(n_components=PCA_VARS)),\n",
    "         (\"logistic\", LogisticRegression(class_weight='balanced'))\n",
    "        ]\n",
    "pipeline = Pipeline(steps)"
   ]
  },
  {
   "cell_type": "code",
   "execution_count": 191,
   "metadata": {},
   "outputs": [
    {
     "data": {
      "text/plain": [
       "Pipeline(memory=None,\n",
       "     steps=[('scaler', StandardScaler(copy=True, with_mean=True, with_std=True)), ('pca', PCA(copy=True, iterated_power='auto', n_components=10, random_state=None,\n",
       "  svd_solver='auto', tol=0.0, whiten=False)), ('logistic', LogisticRegression(C=1.0, class_weight='balanced', dual=False,\n",
       "          fit_intercept=True, intercept_scaling=1, max_iter=100,\n",
       "          multi_class='ovr', n_jobs=1, penalty='l2', random_state=None,\n",
       "          solver='liblinear', tol=0.0001, verbose=0, warm_start=False))])"
      ]
     },
     "execution_count": 191,
     "metadata": {},
     "output_type": "execute_result"
    }
   ],
   "source": [
    "pipeline"
   ]
  },
  {
   "cell_type": "code",
   "execution_count": 192,
   "metadata": {},
   "outputs": [
    {
     "data": {
      "text/plain": [
       "0.865296803652968"
      ]
     },
     "execution_count": 192,
     "metadata": {},
     "output_type": "execute_result"
    }
   ],
   "source": [
    "# fit model\n",
    "pipeline.fit(X_train, y_train)\n",
    "\n",
    "# check score on train data\n",
    "pipeline.score(X_train, y_train)"
   ]
  },
  {
   "cell_type": "markdown",
   "metadata": {},
   "source": [
    "### Evaluate on test data"
   ]
  },
  {
   "cell_type": "code",
   "execution_count": 193,
   "metadata": {},
   "outputs": [
    {
     "data": {
      "text/plain": [
       "array([0, 0, 0, 1, 1, 0, 1, 0, 0, 0, 1, 0, 1, 0, 0, 0, 1, 0, 0, 0, 1, 1,\n",
       "       1, 0, 0, 1, 1, 0, 1, 1, 0, 1, 0, 1, 0, 1, 1, 1, 0, 1, 0, 0, 1, 1,\n",
       "       0, 1, 1, 0, 0, 1, 0, 1, 0, 0, 0, 0, 0, 0, 1, 0, 1, 1, 0, 0, 0, 0,\n",
       "       0, 0, 1, 1, 1, 0, 1, 1, 1, 0, 0, 0, 1, 0, 0, 0, 1, 0, 0, 0, 0, 0,\n",
       "       0, 0, 0, 0, 1, 0, 0, 0, 1, 0, 0, 0, 1, 0, 0, 0, 0, 0, 0, 0, 1, 1,\n",
       "       0, 0, 1, 0, 0, 1, 0, 0, 0, 1, 0, 1, 0, 0, 0, 0, 0, 1, 1, 1, 0, 0,\n",
       "       1, 0, 0, 1, 0, 0, 1, 1, 1, 0, 0, 0, 1, 0], dtype=int64)"
      ]
     },
     "execution_count": 193,
     "metadata": {},
     "output_type": "execute_result"
    }
   ],
   "source": [
    "# predict on test data\n",
    "\n",
    "y_pred = pipeline.predict(X_test)\n",
    "\n",
    "y_pred"
   ]
  },
  {
   "cell_type": "code",
   "execution_count": 194,
   "metadata": {},
   "outputs": [
    {
     "name": "stdout",
     "output_type": "stream",
     "text": [
      "[[84  6]\n",
      " [ 8 48]]\n",
      "AUC:    \t 0.9\n"
     ]
    }
   ],
   "source": [
    "# create confusion matrix\n",
    "\n",
    "cm = confusion_matrix(y_test, y_pred)\n",
    "print(cm)\n",
    "\n",
    "\n",
    "# check area under curve\n",
    "y_pred_prob = pipeline.predict_proba(X_test)[:, 1]\n",
    "print(\"AUC:    \\t\", round(roc_auc_score(y_test, y_pred_prob),2))"
   ]
  },
  {
   "cell_type": "markdown",
   "metadata": {},
   "source": [
    "### Hyperparameter tuning - PCA and Logistic Regression"
   ]
  },
  {
   "cell_type": "code",
   "execution_count": 195,
   "metadata": {},
   "outputs": [
    {
     "data": {
      "text/plain": [
       "0    0.611872\n",
       "1    0.388128\n",
       "Name: Approved, dtype: float64"
      ]
     },
     "execution_count": 195,
     "metadata": {},
     "output_type": "execute_result"
    }
   ],
   "source": [
    "# class balance\n",
    "y_train.value_counts()/y_train.shape"
   ]
  },
  {
   "cell_type": "code",
   "execution_count": 196,
   "metadata": {},
   "outputs": [],
   "source": [
    "# PCA\n",
    "pca = PCA()\n",
    "\n",
    "# logistic regression \n",
    "logistic = LogisticRegression()\n",
    "\n",
    "# create pipeline\n",
    "steps = [(\"scaler\", StandardScaler()), \n",
    "         (\"pca\", pca),\n",
    "         (\"logistic\", logistic)\n",
    "        ]\n",
    "\n",
    "# compile pipeline\n",
    "pca_logistic = Pipeline(steps)\n",
    "\n",
    "# hyperparameter space\n",
    "params = {'pca__n_components': [8,10], 'logistic__C': [0.1, 0.5, 1, 2, 3, 4, 5, 10], 'logistic__penalty': ['l1', 'l2']}\n",
    "\n",
    "# create 5 folds\n",
    "folds = StratifiedKFold(n_splits = 5, shuffle = True, random_state = 4)\n",
    "\n",
    "# create gridsearch object\n",
    "model = GridSearchCV(estimator=pca_logistic, cv=folds, param_grid=params, scoring='f1', n_jobs=-1, verbose=1)"
   ]
  },
  {
   "cell_type": "code",
   "execution_count": 197,
   "metadata": {},
   "outputs": [
    {
     "name": "stdout",
     "output_type": "stream",
     "text": [
      "Fitting 5 folds for each of 32 candidates, totalling 160 fits\n"
     ]
    },
    {
     "name": "stderr",
     "output_type": "stream",
     "text": [
      "[Parallel(n_jobs=-1)]: Done  34 tasks      | elapsed:   57.8s\n",
      "[Parallel(n_jobs=-1)]: Done 160 out of 160 | elapsed:   58.5s finished\n"
     ]
    },
    {
     "data": {
      "text/plain": [
       "GridSearchCV(cv=StratifiedKFold(n_splits=5, random_state=4, shuffle=True),\n",
       "       error_score='raise',\n",
       "       estimator=Pipeline(memory=None,\n",
       "     steps=[('scaler', StandardScaler(copy=True, with_mean=True, with_std=True)), ('pca', PCA(copy=True, iterated_power='auto', n_components=None, random_state=None,\n",
       "  svd_solver='auto', tol=0.0, whiten=False)), ('logistic', LogisticRegression(C=1.0, class_weight=None...y='l2', random_state=None, solver='liblinear', tol=0.0001,\n",
       "          verbose=0, warm_start=False))]),\n",
       "       fit_params=None, iid=True, n_jobs=-1,\n",
       "       param_grid={'pca__n_components': [8, 10], 'logistic__C': [0.1, 0.5, 1, 2, 3, 4, 5, 10], 'logistic__penalty': ['l1', 'l2']},\n",
       "       pre_dispatch='2*n_jobs', refit=True, return_train_score='warn',\n",
       "       scoring='f1', verbose=1)"
      ]
     },
     "execution_count": 197,
     "metadata": {},
     "output_type": "execute_result"
    }
   ],
   "source": [
    "# fit model\n",
    "model.fit(X_train, y_train)"
   ]
  },
  {
   "cell_type": "code",
   "execution_count": 198,
   "metadata": {},
   "outputs": [
    {
     "data": {
      "text/html": [
       "<div>\n",
       "<style scoped>\n",
       "    .dataframe tbody tr th:only-of-type {\n",
       "        vertical-align: middle;\n",
       "    }\n",
       "\n",
       "    .dataframe tbody tr th {\n",
       "        vertical-align: top;\n",
       "    }\n",
       "\n",
       "    .dataframe thead th {\n",
       "        text-align: right;\n",
       "    }\n",
       "</style>\n",
       "<table border=\"1\" class=\"dataframe\">\n",
       "  <thead>\n",
       "    <tr style=\"text-align: right;\">\n",
       "      <th></th>\n",
       "      <th>mean_fit_time</th>\n",
       "      <th>std_fit_time</th>\n",
       "      <th>mean_score_time</th>\n",
       "      <th>std_score_time</th>\n",
       "      <th>param_logistic__C</th>\n",
       "      <th>param_logistic__penalty</th>\n",
       "      <th>param_pca__n_components</th>\n",
       "      <th>params</th>\n",
       "      <th>split0_test_score</th>\n",
       "      <th>split1_test_score</th>\n",
       "      <th>...</th>\n",
       "      <th>mean_test_score</th>\n",
       "      <th>std_test_score</th>\n",
       "      <th>rank_test_score</th>\n",
       "      <th>split0_train_score</th>\n",
       "      <th>split1_train_score</th>\n",
       "      <th>split2_train_score</th>\n",
       "      <th>split3_train_score</th>\n",
       "      <th>split4_train_score</th>\n",
       "      <th>mean_train_score</th>\n",
       "      <th>std_train_score</th>\n",
       "    </tr>\n",
       "  </thead>\n",
       "  <tbody>\n",
       "    <tr>\n",
       "      <th>0</th>\n",
       "      <td>0.041311</td>\n",
       "      <td>0.013994</td>\n",
       "      <td>0.003913</td>\n",
       "      <td>1.811326e-04</td>\n",
       "      <td>0.1</td>\n",
       "      <td>l1</td>\n",
       "      <td>8</td>\n",
       "      <td>{'logistic__C': 0.1, 'logistic__penalty': 'l1'...</td>\n",
       "      <td>0.735294</td>\n",
       "      <td>0.754098</td>\n",
       "      <td>...</td>\n",
       "      <td>0.769357</td>\n",
       "      <td>0.023259</td>\n",
       "      <td>19</td>\n",
       "      <td>0.779923</td>\n",
       "      <td>0.789474</td>\n",
       "      <td>0.783582</td>\n",
       "      <td>0.768061</td>\n",
       "      <td>0.769231</td>\n",
       "      <td>0.778054</td>\n",
       "      <td>0.008273</td>\n",
       "    </tr>\n",
       "    <tr>\n",
       "      <th>1</th>\n",
       "      <td>0.064426</td>\n",
       "      <td>0.062389</td>\n",
       "      <td>0.002718</td>\n",
       "      <td>1.471878e-03</td>\n",
       "      <td>0.1</td>\n",
       "      <td>l1</td>\n",
       "      <td>10</td>\n",
       "      <td>{'logistic__C': 0.1, 'logistic__penalty': 'l1'...</td>\n",
       "      <td>0.732394</td>\n",
       "      <td>0.776119</td>\n",
       "      <td>...</td>\n",
       "      <td>0.786152</td>\n",
       "      <td>0.031512</td>\n",
       "      <td>8</td>\n",
       "      <td>0.806084</td>\n",
       "      <td>0.830325</td>\n",
       "      <td>0.788104</td>\n",
       "      <td>0.800000</td>\n",
       "      <td>0.802867</td>\n",
       "      <td>0.805476</td>\n",
       "      <td>0.013830</td>\n",
       "    </tr>\n",
       "    <tr>\n",
       "      <th>2</th>\n",
       "      <td>0.025674</td>\n",
       "      <td>0.007477</td>\n",
       "      <td>0.005611</td>\n",
       "      <td>1.965505e-03</td>\n",
       "      <td>0.1</td>\n",
       "      <td>l2</td>\n",
       "      <td>8</td>\n",
       "      <td>{'logistic__C': 0.1, 'logistic__penalty': 'l2'...</td>\n",
       "      <td>0.764706</td>\n",
       "      <td>0.733333</td>\n",
       "      <td>...</td>\n",
       "      <td>0.771360</td>\n",
       "      <td>0.040007</td>\n",
       "      <td>17</td>\n",
       "      <td>0.803089</td>\n",
       "      <td>0.787645</td>\n",
       "      <td>0.770992</td>\n",
       "      <td>0.769231</td>\n",
       "      <td>0.775194</td>\n",
       "      <td>0.781230</td>\n",
       "      <td>0.012682</td>\n",
       "    </tr>\n",
       "    <tr>\n",
       "      <th>3</th>\n",
       "      <td>0.043539</td>\n",
       "      <td>0.011191</td>\n",
       "      <td>0.002324</td>\n",
       "      <td>1.332767e-03</td>\n",
       "      <td>0.1</td>\n",
       "      <td>l2</td>\n",
       "      <td>10</td>\n",
       "      <td>{'logistic__C': 0.1, 'logistic__penalty': 'l2'...</td>\n",
       "      <td>0.782609</td>\n",
       "      <td>0.750000</td>\n",
       "      <td>...</td>\n",
       "      <td>0.789562</td>\n",
       "      <td>0.034052</td>\n",
       "      <td>1</td>\n",
       "      <td>0.817844</td>\n",
       "      <td>0.815884</td>\n",
       "      <td>0.800000</td>\n",
       "      <td>0.814815</td>\n",
       "      <td>0.812950</td>\n",
       "      <td>0.812299</td>\n",
       "      <td>0.006350</td>\n",
       "    </tr>\n",
       "    <tr>\n",
       "      <th>4</th>\n",
       "      <td>0.040609</td>\n",
       "      <td>0.007580</td>\n",
       "      <td>0.002437</td>\n",
       "      <td>2.034189e-04</td>\n",
       "      <td>0.5</td>\n",
       "      <td>l1</td>\n",
       "      <td>8</td>\n",
       "      <td>{'logistic__C': 0.5, 'logistic__penalty': 'l1'...</td>\n",
       "      <td>0.776119</td>\n",
       "      <td>0.741935</td>\n",
       "      <td>...</td>\n",
       "      <td>0.769837</td>\n",
       "      <td>0.032443</td>\n",
       "      <td>18</td>\n",
       "      <td>0.798450</td>\n",
       "      <td>0.800000</td>\n",
       "      <td>0.784906</td>\n",
       "      <td>0.772201</td>\n",
       "      <td>0.773946</td>\n",
       "      <td>0.785900</td>\n",
       "      <td>0.011729</td>\n",
       "    </tr>\n",
       "    <tr>\n",
       "      <th>5</th>\n",
       "      <td>0.016039</td>\n",
       "      <td>0.002329</td>\n",
       "      <td>0.002539</td>\n",
       "      <td>3.208041e-04</td>\n",
       "      <td>0.5</td>\n",
       "      <td>l1</td>\n",
       "      <td>10</td>\n",
       "      <td>{'logistic__C': 0.5, 'logistic__penalty': 'l1'...</td>\n",
       "      <td>0.753623</td>\n",
       "      <td>0.769231</td>\n",
       "      <td>...</td>\n",
       "      <td>0.786704</td>\n",
       "      <td>0.029951</td>\n",
       "      <td>7</td>\n",
       "      <td>0.820896</td>\n",
       "      <td>0.827338</td>\n",
       "      <td>0.804511</td>\n",
       "      <td>0.804428</td>\n",
       "      <td>0.822695</td>\n",
       "      <td>0.815974</td>\n",
       "      <td>0.009625</td>\n",
       "    </tr>\n",
       "    <tr>\n",
       "      <th>6</th>\n",
       "      <td>0.020711</td>\n",
       "      <td>0.004532</td>\n",
       "      <td>0.003553</td>\n",
       "      <td>7.182169e-04</td>\n",
       "      <td>0.5</td>\n",
       "      <td>l2</td>\n",
       "      <td>8</td>\n",
       "      <td>{'logistic__C': 0.5, 'logistic__penalty': 'l2'...</td>\n",
       "      <td>0.757576</td>\n",
       "      <td>0.733333</td>\n",
       "      <td>...</td>\n",
       "      <td>0.762967</td>\n",
       "      <td>0.034111</td>\n",
       "      <td>22</td>\n",
       "      <td>0.815385</td>\n",
       "      <td>0.784615</td>\n",
       "      <td>0.770992</td>\n",
       "      <td>0.772201</td>\n",
       "      <td>0.775194</td>\n",
       "      <td>0.783677</td>\n",
       "      <td>0.016558</td>\n",
       "    </tr>\n",
       "    <tr>\n",
       "      <th>7</th>\n",
       "      <td>0.025168</td>\n",
       "      <td>0.007968</td>\n",
       "      <td>0.002223</td>\n",
       "      <td>2.578165e-04</td>\n",
       "      <td>0.5</td>\n",
       "      <td>l2</td>\n",
       "      <td>10</td>\n",
       "      <td>{'logistic__C': 0.5, 'logistic__penalty': 'l2'...</td>\n",
       "      <td>0.764706</td>\n",
       "      <td>0.769231</td>\n",
       "      <td>...</td>\n",
       "      <td>0.785212</td>\n",
       "      <td>0.028855</td>\n",
       "      <td>9</td>\n",
       "      <td>0.813433</td>\n",
       "      <td>0.831541</td>\n",
       "      <td>0.802974</td>\n",
       "      <td>0.811808</td>\n",
       "      <td>0.817204</td>\n",
       "      <td>0.815392</td>\n",
       "      <td>0.009327</td>\n",
       "    </tr>\n",
       "    <tr>\n",
       "      <th>8</th>\n",
       "      <td>0.008913</td>\n",
       "      <td>0.003884</td>\n",
       "      <td>0.002539</td>\n",
       "      <td>3.211056e-04</td>\n",
       "      <td>1</td>\n",
       "      <td>l1</td>\n",
       "      <td>8</td>\n",
       "      <td>{'logistic__C': 1, 'logistic__penalty': 'l1', ...</td>\n",
       "      <td>0.776119</td>\n",
       "      <td>0.733333</td>\n",
       "      <td>...</td>\n",
       "      <td>0.764444</td>\n",
       "      <td>0.036409</td>\n",
       "      <td>20</td>\n",
       "      <td>0.810811</td>\n",
       "      <td>0.792308</td>\n",
       "      <td>0.770992</td>\n",
       "      <td>0.772201</td>\n",
       "      <td>0.776923</td>\n",
       "      <td>0.784647</td>\n",
       "      <td>0.015128</td>\n",
       "    </tr>\n",
       "    <tr>\n",
       "      <th>9</th>\n",
       "      <td>0.012894</td>\n",
       "      <td>0.005241</td>\n",
       "      <td>0.003553</td>\n",
       "      <td>1.284064e-03</td>\n",
       "      <td>1</td>\n",
       "      <td>l1</td>\n",
       "      <td>10</td>\n",
       "      <td>{'logistic__C': 1, 'logistic__penalty': 'l1', ...</td>\n",
       "      <td>0.764706</td>\n",
       "      <td>0.769231</td>\n",
       "      <td>...</td>\n",
       "      <td>0.787599</td>\n",
       "      <td>0.027916</td>\n",
       "      <td>2</td>\n",
       "      <td>0.817844</td>\n",
       "      <td>0.827338</td>\n",
       "      <td>0.804511</td>\n",
       "      <td>0.811808</td>\n",
       "      <td>0.817204</td>\n",
       "      <td>0.815741</td>\n",
       "      <td>0.007518</td>\n",
       "    </tr>\n",
       "    <tr>\n",
       "      <th>10</th>\n",
       "      <td>0.023249</td>\n",
       "      <td>0.000673</td>\n",
       "      <td>0.002538</td>\n",
       "      <td>8.844012e-07</td>\n",
       "      <td>1</td>\n",
       "      <td>l2</td>\n",
       "      <td>8</td>\n",
       "      <td>{'logistic__C': 1, 'logistic__penalty': 'l2', ...</td>\n",
       "      <td>0.757576</td>\n",
       "      <td>0.733333</td>\n",
       "      <td>...</td>\n",
       "      <td>0.762967</td>\n",
       "      <td>0.034111</td>\n",
       "      <td>22</td>\n",
       "      <td>0.815385</td>\n",
       "      <td>0.784615</td>\n",
       "      <td>0.770992</td>\n",
       "      <td>0.772201</td>\n",
       "      <td>0.775194</td>\n",
       "      <td>0.783677</td>\n",
       "      <td>0.016558</td>\n",
       "    </tr>\n",
       "    <tr>\n",
       "      <th>11</th>\n",
       "      <td>0.024570</td>\n",
       "      <td>0.003407</td>\n",
       "      <td>0.002437</td>\n",
       "      <td>2.028716e-04</td>\n",
       "      <td>1</td>\n",
       "      <td>l2</td>\n",
       "      <td>10</td>\n",
       "      <td>{'logistic__C': 1, 'logistic__penalty': 'l2', ...</td>\n",
       "      <td>0.764706</td>\n",
       "      <td>0.769231</td>\n",
       "      <td>...</td>\n",
       "      <td>0.787442</td>\n",
       "      <td>0.033263</td>\n",
       "      <td>3</td>\n",
       "      <td>0.810409</td>\n",
       "      <td>0.827338</td>\n",
       "      <td>0.802974</td>\n",
       "      <td>0.811808</td>\n",
       "      <td>0.821429</td>\n",
       "      <td>0.814792</td>\n",
       "      <td>0.008593</td>\n",
       "    </tr>\n",
       "    <tr>\n",
       "      <th>12</th>\n",
       "      <td>0.014924</td>\n",
       "      <td>0.004928</td>\n",
       "      <td>0.002741</td>\n",
       "      <td>4.059795e-04</td>\n",
       "      <td>2</td>\n",
       "      <td>l1</td>\n",
       "      <td>8</td>\n",
       "      <td>{'logistic__C': 2, 'logistic__penalty': 'l1', ...</td>\n",
       "      <td>0.776119</td>\n",
       "      <td>0.733333</td>\n",
       "      <td>...</td>\n",
       "      <td>0.764444</td>\n",
       "      <td>0.036409</td>\n",
       "      <td>20</td>\n",
       "      <td>0.815385</td>\n",
       "      <td>0.787645</td>\n",
       "      <td>0.770992</td>\n",
       "      <td>0.772201</td>\n",
       "      <td>0.779923</td>\n",
       "      <td>0.785229</td>\n",
       "      <td>0.016222</td>\n",
       "    </tr>\n",
       "    <tr>\n",
       "      <th>13</th>\n",
       "      <td>0.005888</td>\n",
       "      <td>0.000406</td>\n",
       "      <td>0.002031</td>\n",
       "      <td>6.325960e-07</td>\n",
       "      <td>2</td>\n",
       "      <td>l1</td>\n",
       "      <td>10</td>\n",
       "      <td>{'logistic__C': 2, 'logistic__penalty': 'l1', ...</td>\n",
       "      <td>0.764706</td>\n",
       "      <td>0.769231</td>\n",
       "      <td>...</td>\n",
       "      <td>0.787442</td>\n",
       "      <td>0.033263</td>\n",
       "      <td>3</td>\n",
       "      <td>0.814815</td>\n",
       "      <td>0.827338</td>\n",
       "      <td>0.802974</td>\n",
       "      <td>0.811808</td>\n",
       "      <td>0.812950</td>\n",
       "      <td>0.813977</td>\n",
       "      <td>0.007824</td>\n",
       "    </tr>\n",
       "    <tr>\n",
       "      <th>14</th>\n",
       "      <td>0.023452</td>\n",
       "      <td>0.009682</td>\n",
       "      <td>0.002945</td>\n",
       "      <td>8.119584e-04</td>\n",
       "      <td>2</td>\n",
       "      <td>l2</td>\n",
       "      <td>8</td>\n",
       "      <td>{'logistic__C': 2, 'logistic__penalty': 'l2', ...</td>\n",
       "      <td>0.757576</td>\n",
       "      <td>0.733333</td>\n",
       "      <td>...</td>\n",
       "      <td>0.762967</td>\n",
       "      <td>0.034111</td>\n",
       "      <td>22</td>\n",
       "      <td>0.815385</td>\n",
       "      <td>0.784615</td>\n",
       "      <td>0.770992</td>\n",
       "      <td>0.772201</td>\n",
       "      <td>0.775194</td>\n",
       "      <td>0.783677</td>\n",
       "      <td>0.016558</td>\n",
       "    </tr>\n",
       "    <tr>\n",
       "      <th>15</th>\n",
       "      <td>0.031167</td>\n",
       "      <td>0.006746</td>\n",
       "      <td>0.004569</td>\n",
       "      <td>4.319971e-03</td>\n",
       "      <td>2</td>\n",
       "      <td>l2</td>\n",
       "      <td>10</td>\n",
       "      <td>{'logistic__C': 2, 'logistic__penalty': 'l2', ...</td>\n",
       "      <td>0.764706</td>\n",
       "      <td>0.769231</td>\n",
       "      <td>...</td>\n",
       "      <td>0.785212</td>\n",
       "      <td>0.028855</td>\n",
       "      <td>9</td>\n",
       "      <td>0.813433</td>\n",
       "      <td>0.826087</td>\n",
       "      <td>0.802974</td>\n",
       "      <td>0.811808</td>\n",
       "      <td>0.817204</td>\n",
       "      <td>0.814301</td>\n",
       "      <td>0.007518</td>\n",
       "    </tr>\n",
       "    <tr>\n",
       "      <th>16</th>\n",
       "      <td>0.026985</td>\n",
       "      <td>0.008309</td>\n",
       "      <td>0.002538</td>\n",
       "      <td>1.200645e-06</td>\n",
       "      <td>3</td>\n",
       "      <td>l1</td>\n",
       "      <td>8</td>\n",
       "      <td>{'logistic__C': 3, 'logistic__penalty': 'l1', ...</td>\n",
       "      <td>0.757576</td>\n",
       "      <td>0.733333</td>\n",
       "      <td>...</td>\n",
       "      <td>0.762967</td>\n",
       "      <td>0.034111</td>\n",
       "      <td>22</td>\n",
       "      <td>0.815385</td>\n",
       "      <td>0.784615</td>\n",
       "      <td>0.770992</td>\n",
       "      <td>0.772201</td>\n",
       "      <td>0.779923</td>\n",
       "      <td>0.784623</td>\n",
       "      <td>0.016177</td>\n",
       "    </tr>\n",
       "    <tr>\n",
       "      <th>17</th>\n",
       "      <td>0.026295</td>\n",
       "      <td>0.004179</td>\n",
       "      <td>0.002741</td>\n",
       "      <td>4.073144e-04</td>\n",
       "      <td>3</td>\n",
       "      <td>l1</td>\n",
       "      <td>10</td>\n",
       "      <td>{'logistic__C': 3, 'logistic__penalty': 'l1', ...</td>\n",
       "      <td>0.764706</td>\n",
       "      <td>0.769231</td>\n",
       "      <td>...</td>\n",
       "      <td>0.787442</td>\n",
       "      <td>0.033263</td>\n",
       "      <td>3</td>\n",
       "      <td>0.814815</td>\n",
       "      <td>0.827338</td>\n",
       "      <td>0.802974</td>\n",
       "      <td>0.811808</td>\n",
       "      <td>0.817204</td>\n",
       "      <td>0.814828</td>\n",
       "      <td>0.007897</td>\n",
       "    </tr>\n",
       "    <tr>\n",
       "      <th>18</th>\n",
       "      <td>0.022844</td>\n",
       "      <td>0.005797</td>\n",
       "      <td>0.002335</td>\n",
       "      <td>2.483595e-04</td>\n",
       "      <td>3</td>\n",
       "      <td>l2</td>\n",
       "      <td>8</td>\n",
       "      <td>{'logistic__C': 3, 'logistic__penalty': 'l2', ...</td>\n",
       "      <td>0.757576</td>\n",
       "      <td>0.733333</td>\n",
       "      <td>...</td>\n",
       "      <td>0.762967</td>\n",
       "      <td>0.034111</td>\n",
       "      <td>22</td>\n",
       "      <td>0.815385</td>\n",
       "      <td>0.784615</td>\n",
       "      <td>0.770992</td>\n",
       "      <td>0.772201</td>\n",
       "      <td>0.775194</td>\n",
       "      <td>0.783677</td>\n",
       "      <td>0.016558</td>\n",
       "    </tr>\n",
       "    <tr>\n",
       "      <th>19</th>\n",
       "      <td>0.022845</td>\n",
       "      <td>0.003095</td>\n",
       "      <td>0.002842</td>\n",
       "      <td>2.471338e-04</td>\n",
       "      <td>3</td>\n",
       "      <td>l2</td>\n",
       "      <td>10</td>\n",
       "      <td>{'logistic__C': 3, 'logistic__penalty': 'l2', ...</td>\n",
       "      <td>0.764706</td>\n",
       "      <td>0.769231</td>\n",
       "      <td>...</td>\n",
       "      <td>0.785212</td>\n",
       "      <td>0.028855</td>\n",
       "      <td>9</td>\n",
       "      <td>0.813433</td>\n",
       "      <td>0.826087</td>\n",
       "      <td>0.802974</td>\n",
       "      <td>0.816176</td>\n",
       "      <td>0.817204</td>\n",
       "      <td>0.815175</td>\n",
       "      <td>0.007431</td>\n",
       "    </tr>\n",
       "    <tr>\n",
       "      <th>20</th>\n",
       "      <td>0.020707</td>\n",
       "      <td>0.008578</td>\n",
       "      <td>0.003047</td>\n",
       "      <td>7.872533e-04</td>\n",
       "      <td>4</td>\n",
       "      <td>l1</td>\n",
       "      <td>8</td>\n",
       "      <td>{'logistic__C': 4, 'logistic__penalty': 'l1', ...</td>\n",
       "      <td>0.757576</td>\n",
       "      <td>0.733333</td>\n",
       "      <td>...</td>\n",
       "      <td>0.762967</td>\n",
       "      <td>0.034111</td>\n",
       "      <td>22</td>\n",
       "      <td>0.815385</td>\n",
       "      <td>0.784615</td>\n",
       "      <td>0.770992</td>\n",
       "      <td>0.772201</td>\n",
       "      <td>0.775194</td>\n",
       "      <td>0.783677</td>\n",
       "      <td>0.016558</td>\n",
       "    </tr>\n",
       "    <tr>\n",
       "      <th>21</th>\n",
       "      <td>0.021930</td>\n",
       "      <td>0.009954</td>\n",
       "      <td>0.002741</td>\n",
       "      <td>2.487501e-04</td>\n",
       "      <td>4</td>\n",
       "      <td>l1</td>\n",
       "      <td>10</td>\n",
       "      <td>{'logistic__C': 4, 'logistic__penalty': 'l1', ...</td>\n",
       "      <td>0.764706</td>\n",
       "      <td>0.769231</td>\n",
       "      <td>...</td>\n",
       "      <td>0.787442</td>\n",
       "      <td>0.033263</td>\n",
       "      <td>3</td>\n",
       "      <td>0.814815</td>\n",
       "      <td>0.823105</td>\n",
       "      <td>0.802974</td>\n",
       "      <td>0.811808</td>\n",
       "      <td>0.817204</td>\n",
       "      <td>0.813981</td>\n",
       "      <td>0.006636</td>\n",
       "    </tr>\n",
       "    <tr>\n",
       "      <th>22</th>\n",
       "      <td>0.022638</td>\n",
       "      <td>0.004843</td>\n",
       "      <td>0.003046</td>\n",
       "      <td>1.015377e-03</td>\n",
       "      <td>4</td>\n",
       "      <td>l2</td>\n",
       "      <td>8</td>\n",
       "      <td>{'logistic__C': 4, 'logistic__penalty': 'l2', ...</td>\n",
       "      <td>0.757576</td>\n",
       "      <td>0.733333</td>\n",
       "      <td>...</td>\n",
       "      <td>0.762967</td>\n",
       "      <td>0.034111</td>\n",
       "      <td>22</td>\n",
       "      <td>0.812261</td>\n",
       "      <td>0.784615</td>\n",
       "      <td>0.770992</td>\n",
       "      <td>0.772201</td>\n",
       "      <td>0.775194</td>\n",
       "      <td>0.783053</td>\n",
       "      <td>0.015366</td>\n",
       "    </tr>\n",
       "    <tr>\n",
       "      <th>23</th>\n",
       "      <td>0.025077</td>\n",
       "      <td>0.004433</td>\n",
       "      <td>0.004670</td>\n",
       "      <td>2.787295e-03</td>\n",
       "      <td>4</td>\n",
       "      <td>l2</td>\n",
       "      <td>10</td>\n",
       "      <td>{'logistic__C': 4, 'logistic__penalty': 'l2', ...</td>\n",
       "      <td>0.764706</td>\n",
       "      <td>0.769231</td>\n",
       "      <td>...</td>\n",
       "      <td>0.785212</td>\n",
       "      <td>0.028855</td>\n",
       "      <td>9</td>\n",
       "      <td>0.813433</td>\n",
       "      <td>0.826087</td>\n",
       "      <td>0.802974</td>\n",
       "      <td>0.816176</td>\n",
       "      <td>0.817204</td>\n",
       "      <td>0.815175</td>\n",
       "      <td>0.007431</td>\n",
       "    </tr>\n",
       "    <tr>\n",
       "      <th>24</th>\n",
       "      <td>0.021421</td>\n",
       "      <td>0.006540</td>\n",
       "      <td>0.002740</td>\n",
       "      <td>2.472322e-04</td>\n",
       "      <td>5</td>\n",
       "      <td>l1</td>\n",
       "      <td>8</td>\n",
       "      <td>{'logistic__C': 5, 'logistic__penalty': 'l1', ...</td>\n",
       "      <td>0.757576</td>\n",
       "      <td>0.733333</td>\n",
       "      <td>...</td>\n",
       "      <td>0.762967</td>\n",
       "      <td>0.034111</td>\n",
       "      <td>22</td>\n",
       "      <td>0.815385</td>\n",
       "      <td>0.784615</td>\n",
       "      <td>0.770992</td>\n",
       "      <td>0.772201</td>\n",
       "      <td>0.775194</td>\n",
       "      <td>0.783677</td>\n",
       "      <td>0.016558</td>\n",
       "    </tr>\n",
       "    <tr>\n",
       "      <th>25</th>\n",
       "      <td>0.023351</td>\n",
       "      <td>0.005421</td>\n",
       "      <td>0.002741</td>\n",
       "      <td>2.490982e-04</td>\n",
       "      <td>5</td>\n",
       "      <td>l1</td>\n",
       "      <td>10</td>\n",
       "      <td>{'logistic__C': 5, 'logistic__penalty': 'l1', ...</td>\n",
       "      <td>0.764706</td>\n",
       "      <td>0.769231</td>\n",
       "      <td>...</td>\n",
       "      <td>0.785212</td>\n",
       "      <td>0.028855</td>\n",
       "      <td>9</td>\n",
       "      <td>0.814815</td>\n",
       "      <td>0.826087</td>\n",
       "      <td>0.802974</td>\n",
       "      <td>0.811808</td>\n",
       "      <td>0.817204</td>\n",
       "      <td>0.814578</td>\n",
       "      <td>0.007506</td>\n",
       "    </tr>\n",
       "    <tr>\n",
       "      <th>26</th>\n",
       "      <td>0.022536</td>\n",
       "      <td>0.005914</td>\n",
       "      <td>0.002437</td>\n",
       "      <td>2.027292e-04</td>\n",
       "      <td>5</td>\n",
       "      <td>l2</td>\n",
       "      <td>8</td>\n",
       "      <td>{'logistic__C': 5, 'logistic__penalty': 'l2', ...</td>\n",
       "      <td>0.757576</td>\n",
       "      <td>0.733333</td>\n",
       "      <td>...</td>\n",
       "      <td>0.762967</td>\n",
       "      <td>0.034111</td>\n",
       "      <td>22</td>\n",
       "      <td>0.812261</td>\n",
       "      <td>0.784615</td>\n",
       "      <td>0.770992</td>\n",
       "      <td>0.772201</td>\n",
       "      <td>0.775194</td>\n",
       "      <td>0.783053</td>\n",
       "      <td>0.015366</td>\n",
       "    </tr>\n",
       "    <tr>\n",
       "      <th>27</th>\n",
       "      <td>0.025076</td>\n",
       "      <td>0.007894</td>\n",
       "      <td>0.002742</td>\n",
       "      <td>4.058852e-04</td>\n",
       "      <td>5</td>\n",
       "      <td>l2</td>\n",
       "      <td>10</td>\n",
       "      <td>{'logistic__C': 5, 'logistic__penalty': 'l2', ...</td>\n",
       "      <td>0.764706</td>\n",
       "      <td>0.769231</td>\n",
       "      <td>...</td>\n",
       "      <td>0.785212</td>\n",
       "      <td>0.028855</td>\n",
       "      <td>9</td>\n",
       "      <td>0.813433</td>\n",
       "      <td>0.826087</td>\n",
       "      <td>0.802974</td>\n",
       "      <td>0.816176</td>\n",
       "      <td>0.817204</td>\n",
       "      <td>0.815175</td>\n",
       "      <td>0.007431</td>\n",
       "    </tr>\n",
       "    <tr>\n",
       "      <th>28</th>\n",
       "      <td>0.022236</td>\n",
       "      <td>0.007242</td>\n",
       "      <td>0.002739</td>\n",
       "      <td>4.068898e-04</td>\n",
       "      <td>10</td>\n",
       "      <td>l1</td>\n",
       "      <td>8</td>\n",
       "      <td>{'logistic__C': 10, 'logistic__penalty': 'l1',...</td>\n",
       "      <td>0.757576</td>\n",
       "      <td>0.733333</td>\n",
       "      <td>...</td>\n",
       "      <td>0.762967</td>\n",
       "      <td>0.034111</td>\n",
       "      <td>22</td>\n",
       "      <td>0.815385</td>\n",
       "      <td>0.784615</td>\n",
       "      <td>0.770992</td>\n",
       "      <td>0.772201</td>\n",
       "      <td>0.775194</td>\n",
       "      <td>0.783677</td>\n",
       "      <td>0.016558</td>\n",
       "    </tr>\n",
       "    <tr>\n",
       "      <th>29</th>\n",
       "      <td>0.021625</td>\n",
       "      <td>0.005173</td>\n",
       "      <td>0.002539</td>\n",
       "      <td>1.211955e-06</td>\n",
       "      <td>10</td>\n",
       "      <td>l1</td>\n",
       "      <td>10</td>\n",
       "      <td>{'logistic__C': 10, 'logistic__penalty': 'l1',...</td>\n",
       "      <td>0.764706</td>\n",
       "      <td>0.769231</td>\n",
       "      <td>...</td>\n",
       "      <td>0.785212</td>\n",
       "      <td>0.028855</td>\n",
       "      <td>9</td>\n",
       "      <td>0.814815</td>\n",
       "      <td>0.826087</td>\n",
       "      <td>0.802974</td>\n",
       "      <td>0.811808</td>\n",
       "      <td>0.817204</td>\n",
       "      <td>0.814578</td>\n",
       "      <td>0.007506</td>\n",
       "    </tr>\n",
       "    <tr>\n",
       "      <th>30</th>\n",
       "      <td>0.011473</td>\n",
       "      <td>0.007132</td>\n",
       "      <td>0.002131</td>\n",
       "      <td>2.033854e-04</td>\n",
       "      <td>10</td>\n",
       "      <td>l2</td>\n",
       "      <td>8</td>\n",
       "      <td>{'logistic__C': 10, 'logistic__penalty': 'l2',...</td>\n",
       "      <td>0.757576</td>\n",
       "      <td>0.733333</td>\n",
       "      <td>...</td>\n",
       "      <td>0.762967</td>\n",
       "      <td>0.034111</td>\n",
       "      <td>22</td>\n",
       "      <td>0.812261</td>\n",
       "      <td>0.784615</td>\n",
       "      <td>0.770992</td>\n",
       "      <td>0.767442</td>\n",
       "      <td>0.775194</td>\n",
       "      <td>0.782101</td>\n",
       "      <td>0.016136</td>\n",
       "    </tr>\n",
       "    <tr>\n",
       "      <th>31</th>\n",
       "      <td>0.009645</td>\n",
       "      <td>0.006665</td>\n",
       "      <td>0.002438</td>\n",
       "      <td>7.468567e-04</td>\n",
       "      <td>10</td>\n",
       "      <td>l2</td>\n",
       "      <td>10</td>\n",
       "      <td>{'logistic__C': 10, 'logistic__penalty': 'l2',...</td>\n",
       "      <td>0.764706</td>\n",
       "      <td>0.769231</td>\n",
       "      <td>...</td>\n",
       "      <td>0.785212</td>\n",
       "      <td>0.028855</td>\n",
       "      <td>9</td>\n",
       "      <td>0.813433</td>\n",
       "      <td>0.826087</td>\n",
       "      <td>0.802974</td>\n",
       "      <td>0.816176</td>\n",
       "      <td>0.817204</td>\n",
       "      <td>0.815175</td>\n",
       "      <td>0.007431</td>\n",
       "    </tr>\n",
       "  </tbody>\n",
       "</table>\n",
       "<p>32 rows × 23 columns</p>\n",
       "</div>"
      ],
      "text/plain": [
       "    mean_fit_time  std_fit_time  mean_score_time  std_score_time  \\\n",
       "0        0.041311      0.013994         0.003913    1.811326e-04   \n",
       "1        0.064426      0.062389         0.002718    1.471878e-03   \n",
       "2        0.025674      0.007477         0.005611    1.965505e-03   \n",
       "3        0.043539      0.011191         0.002324    1.332767e-03   \n",
       "4        0.040609      0.007580         0.002437    2.034189e-04   \n",
       "5        0.016039      0.002329         0.002539    3.208041e-04   \n",
       "6        0.020711      0.004532         0.003553    7.182169e-04   \n",
       "7        0.025168      0.007968         0.002223    2.578165e-04   \n",
       "8        0.008913      0.003884         0.002539    3.211056e-04   \n",
       "9        0.012894      0.005241         0.003553    1.284064e-03   \n",
       "10       0.023249      0.000673         0.002538    8.844012e-07   \n",
       "11       0.024570      0.003407         0.002437    2.028716e-04   \n",
       "12       0.014924      0.004928         0.002741    4.059795e-04   \n",
       "13       0.005888      0.000406         0.002031    6.325960e-07   \n",
       "14       0.023452      0.009682         0.002945    8.119584e-04   \n",
       "15       0.031167      0.006746         0.004569    4.319971e-03   \n",
       "16       0.026985      0.008309         0.002538    1.200645e-06   \n",
       "17       0.026295      0.004179         0.002741    4.073144e-04   \n",
       "18       0.022844      0.005797         0.002335    2.483595e-04   \n",
       "19       0.022845      0.003095         0.002842    2.471338e-04   \n",
       "20       0.020707      0.008578         0.003047    7.872533e-04   \n",
       "21       0.021930      0.009954         0.002741    2.487501e-04   \n",
       "22       0.022638      0.004843         0.003046    1.015377e-03   \n",
       "23       0.025077      0.004433         0.004670    2.787295e-03   \n",
       "24       0.021421      0.006540         0.002740    2.472322e-04   \n",
       "25       0.023351      0.005421         0.002741    2.490982e-04   \n",
       "26       0.022536      0.005914         0.002437    2.027292e-04   \n",
       "27       0.025076      0.007894         0.002742    4.058852e-04   \n",
       "28       0.022236      0.007242         0.002739    4.068898e-04   \n",
       "29       0.021625      0.005173         0.002539    1.211955e-06   \n",
       "30       0.011473      0.007132         0.002131    2.033854e-04   \n",
       "31       0.009645      0.006665         0.002438    7.468567e-04   \n",
       "\n",
       "   param_logistic__C param_logistic__penalty param_pca__n_components  \\\n",
       "0                0.1                      l1                       8   \n",
       "1                0.1                      l1                      10   \n",
       "2                0.1                      l2                       8   \n",
       "3                0.1                      l2                      10   \n",
       "4                0.5                      l1                       8   \n",
       "5                0.5                      l1                      10   \n",
       "6                0.5                      l2                       8   \n",
       "7                0.5                      l2                      10   \n",
       "8                  1                      l1                       8   \n",
       "9                  1                      l1                      10   \n",
       "10                 1                      l2                       8   \n",
       "11                 1                      l2                      10   \n",
       "12                 2                      l1                       8   \n",
       "13                 2                      l1                      10   \n",
       "14                 2                      l2                       8   \n",
       "15                 2                      l2                      10   \n",
       "16                 3                      l1                       8   \n",
       "17                 3                      l1                      10   \n",
       "18                 3                      l2                       8   \n",
       "19                 3                      l2                      10   \n",
       "20                 4                      l1                       8   \n",
       "21                 4                      l1                      10   \n",
       "22                 4                      l2                       8   \n",
       "23                 4                      l2                      10   \n",
       "24                 5                      l1                       8   \n",
       "25                 5                      l1                      10   \n",
       "26                 5                      l2                       8   \n",
       "27                 5                      l2                      10   \n",
       "28                10                      l1                       8   \n",
       "29                10                      l1                      10   \n",
       "30                10                      l2                       8   \n",
       "31                10                      l2                      10   \n",
       "\n",
       "                                               params  split0_test_score  \\\n",
       "0   {'logistic__C': 0.1, 'logistic__penalty': 'l1'...           0.735294   \n",
       "1   {'logistic__C': 0.1, 'logistic__penalty': 'l1'...           0.732394   \n",
       "2   {'logistic__C': 0.1, 'logistic__penalty': 'l2'...           0.764706   \n",
       "3   {'logistic__C': 0.1, 'logistic__penalty': 'l2'...           0.782609   \n",
       "4   {'logistic__C': 0.5, 'logistic__penalty': 'l1'...           0.776119   \n",
       "5   {'logistic__C': 0.5, 'logistic__penalty': 'l1'...           0.753623   \n",
       "6   {'logistic__C': 0.5, 'logistic__penalty': 'l2'...           0.757576   \n",
       "7   {'logistic__C': 0.5, 'logistic__penalty': 'l2'...           0.764706   \n",
       "8   {'logistic__C': 1, 'logistic__penalty': 'l1', ...           0.776119   \n",
       "9   {'logistic__C': 1, 'logistic__penalty': 'l1', ...           0.764706   \n",
       "10  {'logistic__C': 1, 'logistic__penalty': 'l2', ...           0.757576   \n",
       "11  {'logistic__C': 1, 'logistic__penalty': 'l2', ...           0.764706   \n",
       "12  {'logistic__C': 2, 'logistic__penalty': 'l1', ...           0.776119   \n",
       "13  {'logistic__C': 2, 'logistic__penalty': 'l1', ...           0.764706   \n",
       "14  {'logistic__C': 2, 'logistic__penalty': 'l2', ...           0.757576   \n",
       "15  {'logistic__C': 2, 'logistic__penalty': 'l2', ...           0.764706   \n",
       "16  {'logistic__C': 3, 'logistic__penalty': 'l1', ...           0.757576   \n",
       "17  {'logistic__C': 3, 'logistic__penalty': 'l1', ...           0.764706   \n",
       "18  {'logistic__C': 3, 'logistic__penalty': 'l2', ...           0.757576   \n",
       "19  {'logistic__C': 3, 'logistic__penalty': 'l2', ...           0.764706   \n",
       "20  {'logistic__C': 4, 'logistic__penalty': 'l1', ...           0.757576   \n",
       "21  {'logistic__C': 4, 'logistic__penalty': 'l1', ...           0.764706   \n",
       "22  {'logistic__C': 4, 'logistic__penalty': 'l2', ...           0.757576   \n",
       "23  {'logistic__C': 4, 'logistic__penalty': 'l2', ...           0.764706   \n",
       "24  {'logistic__C': 5, 'logistic__penalty': 'l1', ...           0.757576   \n",
       "25  {'logistic__C': 5, 'logistic__penalty': 'l1', ...           0.764706   \n",
       "26  {'logistic__C': 5, 'logistic__penalty': 'l2', ...           0.757576   \n",
       "27  {'logistic__C': 5, 'logistic__penalty': 'l2', ...           0.764706   \n",
       "28  {'logistic__C': 10, 'logistic__penalty': 'l1',...           0.757576   \n",
       "29  {'logistic__C': 10, 'logistic__penalty': 'l1',...           0.764706   \n",
       "30  {'logistic__C': 10, 'logistic__penalty': 'l2',...           0.757576   \n",
       "31  {'logistic__C': 10, 'logistic__penalty': 'l2',...           0.764706   \n",
       "\n",
       "    split1_test_score       ...         mean_test_score  std_test_score  \\\n",
       "0            0.754098       ...                0.769357        0.023259   \n",
       "1            0.776119       ...                0.786152        0.031512   \n",
       "2            0.733333       ...                0.771360        0.040007   \n",
       "3            0.750000       ...                0.789562        0.034052   \n",
       "4            0.741935       ...                0.769837        0.032443   \n",
       "5            0.769231       ...                0.786704        0.029951   \n",
       "6            0.733333       ...                0.762967        0.034111   \n",
       "7            0.769231       ...                0.785212        0.028855   \n",
       "8            0.733333       ...                0.764444        0.036409   \n",
       "9            0.769231       ...                0.787599        0.027916   \n",
       "10           0.733333       ...                0.762967        0.034111   \n",
       "11           0.769231       ...                0.787442        0.033263   \n",
       "12           0.733333       ...                0.764444        0.036409   \n",
       "13           0.769231       ...                0.787442        0.033263   \n",
       "14           0.733333       ...                0.762967        0.034111   \n",
       "15           0.769231       ...                0.785212        0.028855   \n",
       "16           0.733333       ...                0.762967        0.034111   \n",
       "17           0.769231       ...                0.787442        0.033263   \n",
       "18           0.733333       ...                0.762967        0.034111   \n",
       "19           0.769231       ...                0.785212        0.028855   \n",
       "20           0.733333       ...                0.762967        0.034111   \n",
       "21           0.769231       ...                0.787442        0.033263   \n",
       "22           0.733333       ...                0.762967        0.034111   \n",
       "23           0.769231       ...                0.785212        0.028855   \n",
       "24           0.733333       ...                0.762967        0.034111   \n",
       "25           0.769231       ...                0.785212        0.028855   \n",
       "26           0.733333       ...                0.762967        0.034111   \n",
       "27           0.769231       ...                0.785212        0.028855   \n",
       "28           0.733333       ...                0.762967        0.034111   \n",
       "29           0.769231       ...                0.785212        0.028855   \n",
       "30           0.733333       ...                0.762967        0.034111   \n",
       "31           0.769231       ...                0.785212        0.028855   \n",
       "\n",
       "    rank_test_score  split0_train_score  split1_train_score  \\\n",
       "0                19            0.779923            0.789474   \n",
       "1                 8            0.806084            0.830325   \n",
       "2                17            0.803089            0.787645   \n",
       "3                 1            0.817844            0.815884   \n",
       "4                18            0.798450            0.800000   \n",
       "5                 7            0.820896            0.827338   \n",
       "6                22            0.815385            0.784615   \n",
       "7                 9            0.813433            0.831541   \n",
       "8                20            0.810811            0.792308   \n",
       "9                 2            0.817844            0.827338   \n",
       "10               22            0.815385            0.784615   \n",
       "11                3            0.810409            0.827338   \n",
       "12               20            0.815385            0.787645   \n",
       "13                3            0.814815            0.827338   \n",
       "14               22            0.815385            0.784615   \n",
       "15                9            0.813433            0.826087   \n",
       "16               22            0.815385            0.784615   \n",
       "17                3            0.814815            0.827338   \n",
       "18               22            0.815385            0.784615   \n",
       "19                9            0.813433            0.826087   \n",
       "20               22            0.815385            0.784615   \n",
       "21                3            0.814815            0.823105   \n",
       "22               22            0.812261            0.784615   \n",
       "23                9            0.813433            0.826087   \n",
       "24               22            0.815385            0.784615   \n",
       "25                9            0.814815            0.826087   \n",
       "26               22            0.812261            0.784615   \n",
       "27                9            0.813433            0.826087   \n",
       "28               22            0.815385            0.784615   \n",
       "29                9            0.814815            0.826087   \n",
       "30               22            0.812261            0.784615   \n",
       "31                9            0.813433            0.826087   \n",
       "\n",
       "    split2_train_score  split3_train_score  split4_train_score  \\\n",
       "0             0.783582            0.768061            0.769231   \n",
       "1             0.788104            0.800000            0.802867   \n",
       "2             0.770992            0.769231            0.775194   \n",
       "3             0.800000            0.814815            0.812950   \n",
       "4             0.784906            0.772201            0.773946   \n",
       "5             0.804511            0.804428            0.822695   \n",
       "6             0.770992            0.772201            0.775194   \n",
       "7             0.802974            0.811808            0.817204   \n",
       "8             0.770992            0.772201            0.776923   \n",
       "9             0.804511            0.811808            0.817204   \n",
       "10            0.770992            0.772201            0.775194   \n",
       "11            0.802974            0.811808            0.821429   \n",
       "12            0.770992            0.772201            0.779923   \n",
       "13            0.802974            0.811808            0.812950   \n",
       "14            0.770992            0.772201            0.775194   \n",
       "15            0.802974            0.811808            0.817204   \n",
       "16            0.770992            0.772201            0.779923   \n",
       "17            0.802974            0.811808            0.817204   \n",
       "18            0.770992            0.772201            0.775194   \n",
       "19            0.802974            0.816176            0.817204   \n",
       "20            0.770992            0.772201            0.775194   \n",
       "21            0.802974            0.811808            0.817204   \n",
       "22            0.770992            0.772201            0.775194   \n",
       "23            0.802974            0.816176            0.817204   \n",
       "24            0.770992            0.772201            0.775194   \n",
       "25            0.802974            0.811808            0.817204   \n",
       "26            0.770992            0.772201            0.775194   \n",
       "27            0.802974            0.816176            0.817204   \n",
       "28            0.770992            0.772201            0.775194   \n",
       "29            0.802974            0.811808            0.817204   \n",
       "30            0.770992            0.767442            0.775194   \n",
       "31            0.802974            0.816176            0.817204   \n",
       "\n",
       "    mean_train_score  std_train_score  \n",
       "0           0.778054         0.008273  \n",
       "1           0.805476         0.013830  \n",
       "2           0.781230         0.012682  \n",
       "3           0.812299         0.006350  \n",
       "4           0.785900         0.011729  \n",
       "5           0.815974         0.009625  \n",
       "6           0.783677         0.016558  \n",
       "7           0.815392         0.009327  \n",
       "8           0.784647         0.015128  \n",
       "9           0.815741         0.007518  \n",
       "10          0.783677         0.016558  \n",
       "11          0.814792         0.008593  \n",
       "12          0.785229         0.016222  \n",
       "13          0.813977         0.007824  \n",
       "14          0.783677         0.016558  \n",
       "15          0.814301         0.007518  \n",
       "16          0.784623         0.016177  \n",
       "17          0.814828         0.007897  \n",
       "18          0.783677         0.016558  \n",
       "19          0.815175         0.007431  \n",
       "20          0.783677         0.016558  \n",
       "21          0.813981         0.006636  \n",
       "22          0.783053         0.015366  \n",
       "23          0.815175         0.007431  \n",
       "24          0.783677         0.016558  \n",
       "25          0.814578         0.007506  \n",
       "26          0.783053         0.015366  \n",
       "27          0.815175         0.007431  \n",
       "28          0.783677         0.016558  \n",
       "29          0.814578         0.007506  \n",
       "30          0.782101         0.016136  \n",
       "31          0.815175         0.007431  \n",
       "\n",
       "[32 rows x 23 columns]"
      ]
     },
     "execution_count": 198,
     "metadata": {},
     "output_type": "execute_result"
    }
   ],
   "source": [
    "# cross validation results\n",
    "\n",
    "pd.DataFrame(model.cv_results_)"
   ]
  },
  {
   "cell_type": "code",
   "execution_count": 199,
   "metadata": {},
   "outputs": [
    {
     "name": "stdout",
     "output_type": "stream",
     "text": [
      "Best Metric Value:  0.7895623635100258\n",
      "Best hyperparameters:  {'logistic__C': 0.1, 'logistic__penalty': 'l2', 'pca__n_components': 10}\n"
     ]
    }
   ],
   "source": [
    "# print best hyperparameters\n",
    "\n",
    "print(\"Best Metric Value: \", model.best_score_)\n",
    "print(\"Best hyperparameters: \", model.best_params_)"
   ]
  },
  {
   "cell_type": "code",
   "execution_count": 200,
   "metadata": {},
   "outputs": [
    {
     "name": "stdout",
     "output_type": "stream",
     "text": [
      "[[85  5]\n",
      " [15 41]]\n",
      "AUC:    \t 0.9\n"
     ]
    }
   ],
   "source": [
    "# predict on test data\n",
    "\n",
    "y_pred = model.predict(X_test)\n",
    "\n",
    "# create onfusion matrix\n",
    "cm = confusion_matrix(y_test, y_pred)\n",
    "print(cm)\n",
    "\n",
    "\n",
    "# check area under curve\n",
    "y_pred_prob = model.predict_proba(X_test)[:, 1]\n",
    "print(\"AUC:    \\t\", round(roc_auc_score(y_test, y_pred_prob),2))"
   ]
  },
  {
   "cell_type": "code",
   "execution_count": 201,
   "metadata": {},
   "outputs": [],
   "source": [
    "TP = cm[1,1] # true positive \n",
    "TN = cm[0,0] # true negatives\n",
    "FP = cm[0,1] # false positives\n",
    "FN = cm[1,0] # false negatives"
   ]
  },
  {
   "cell_type": "code",
   "execution_count": 202,
   "metadata": {},
   "outputs": [
    {
     "name": "stdout",
     "output_type": "stream",
     "text": [
      "0.7321428571428571\n"
     ]
    }
   ],
   "source": [
    "# Let's see the sensitivity of our logistic regression model\n",
    "\n",
    "Recall1=TP / float(TP+FN)\n",
    "print(Recall1)"
   ]
  },
  {
   "cell_type": "code",
   "execution_count": 203,
   "metadata": {},
   "outputs": [
    {
     "name": "stdout",
     "output_type": "stream",
     "text": [
      "0.8913043478260869\n"
     ]
    }
   ],
   "source": [
    "# Let's see the Precision of our logistic regression model\n",
    "\n",
    "#sklearn.metrics.precision_score(y_test, y_pred)\n",
    "\n",
    "Precision1= TP / float(TP+FP)\n",
    "print(Precision1)"
   ]
  },
  {
   "cell_type": "code",
   "execution_count": 204,
   "metadata": {},
   "outputs": [
    {
     "name": "stdout",
     "output_type": "stream",
     "text": [
      "0.8039215686274508\n"
     ]
    }
   ],
   "source": [
    "F1 = 2 * (Precision1 * Recall1) / (Precision1 + Recall1)\n",
    "print(F1)"
   ]
  },
  {
   "cell_type": "markdown",
   "metadata": {},
   "source": [
    "### Random Forest"
   ]
  },
  {
   "cell_type": "code",
   "execution_count": 205,
   "metadata": {},
   "outputs": [],
   "source": [
    "# random forest - the class weight is used to handle class imbalance - it adjusts the cost function\n",
    "forest = RandomForestClassifier()\n",
    "\n",
    "# hyperparameter space\n",
    "params = {\"criterion\": ['gini', 'entropy'], \"max_features\": ['auto', 0.4]}\n",
    "\n",
    "# create 5 folds\n",
    "folds = StratifiedKFold(n_splits = 5, shuffle = True, random_state = 4)\n",
    "\n",
    "# create gridsearch object\n",
    "model = GridSearchCV(estimator=forest, cv=folds, param_grid=params, scoring='f1', n_jobs=-1, verbose=1)"
   ]
  },
  {
   "cell_type": "code",
   "execution_count": 206,
   "metadata": {},
   "outputs": [
    {
     "name": "stdout",
     "output_type": "stream",
     "text": [
      "Fitting 5 folds for each of 4 candidates, totalling 20 fits\n"
     ]
    },
    {
     "name": "stderr",
     "output_type": "stream",
     "text": [
      "[Parallel(n_jobs=-1)]: Done  20 out of  20 | elapsed:   54.0s finished\n"
     ]
    },
    {
     "data": {
      "text/plain": [
       "GridSearchCV(cv=StratifiedKFold(n_splits=5, random_state=4, shuffle=True),\n",
       "       error_score='raise',\n",
       "       estimator=RandomForestClassifier(bootstrap=True, class_weight=None, criterion='gini',\n",
       "            max_depth=None, max_features='auto', max_leaf_nodes=None,\n",
       "            min_impurity_decrease=0.0, min_impurity_split=None,\n",
       "            min_samples_leaf=1, min_samples_split=2,\n",
       "            min_weight_fraction_leaf=0.0, n_estimators=10, n_jobs=1,\n",
       "            oob_score=False, random_state=None, verbose=0,\n",
       "            warm_start=False),\n",
       "       fit_params=None, iid=True, n_jobs=-1,\n",
       "       param_grid={'criterion': ['gini', 'entropy'], 'max_features': ['auto', 0.4]},\n",
       "       pre_dispatch='2*n_jobs', refit=True, return_train_score='warn',\n",
       "       scoring='f1', verbose=1)"
      ]
     },
     "execution_count": 206,
     "metadata": {},
     "output_type": "execute_result"
    }
   ],
   "source": [
    "# fit model\n",
    "model.fit(X_train, y_train)"
   ]
  },
  {
   "cell_type": "code",
   "execution_count": 207,
   "metadata": {},
   "outputs": [
    {
     "name": "stdout",
     "output_type": "stream",
     "text": [
      "Best Metric Value:  0.7954069328528988\n",
      "Best hyperparameters:  {'criterion': 'entropy', 'max_features': 0.4}\n"
     ]
    }
   ],
   "source": [
    "# print best hyperparameters\n",
    "print(\"Best Metric Value: \", model.best_score_)\n",
    "print(\"Best hyperparameters: \", model.best_params_)"
   ]
  },
  {
   "cell_type": "code",
   "execution_count": 208,
   "metadata": {},
   "outputs": [
    {
     "name": "stdout",
     "output_type": "stream",
     "text": [
      "[[86  4]\n",
      " [ 9 47]]\n",
      "AUC:    \t 0.95\n"
     ]
    }
   ],
   "source": [
    "# predict on test data\n",
    "y_pred = model.predict(X_test)\n",
    "\n",
    "# create onfusion matrix\n",
    "cm = confusion_matrix(y_test, y_pred)\n",
    "print(cm)\n",
    "\n",
    "\n",
    "# check area under curve\n",
    "y_pred_prob = model.predict_proba(X_test)[:, 1]\n",
    "print(\"AUC:    \\t\", round(roc_auc_score(y_test, y_pred_prob),2))"
   ]
  },
  {
   "cell_type": "code",
   "execution_count": 209,
   "metadata": {},
   "outputs": [],
   "source": [
    "TP = cm[1,1] # true positive \n",
    "TN = cm[0,0] # true negatives\n",
    "FP = cm[0,1] # false positives\n",
    "FN = cm[1,0] # false negatives"
   ]
  },
  {
   "cell_type": "code",
   "execution_count": 210,
   "metadata": {},
   "outputs": [
    {
     "name": "stdout",
     "output_type": "stream",
     "text": [
      "0.8392857142857143\n"
     ]
    }
   ],
   "source": [
    "# Let's see the sensitivity of RF model\n",
    "Recall=TP / float(TP+FN)\n",
    "print(Recall)"
   ]
  },
  {
   "cell_type": "code",
   "execution_count": 211,
   "metadata": {},
   "outputs": [
    {
     "name": "stdout",
     "output_type": "stream",
     "text": [
      "0.9215686274509803\n"
     ]
    }
   ],
   "source": [
    "# positive predictive value of RF model\n",
    "\n",
    "Precision= (TP / float(TP+FP))\n",
    "print(Precision)"
   ]
  },
  {
   "cell_type": "code",
   "execution_count": 212,
   "metadata": {},
   "outputs": [
    {
     "name": "stdout",
     "output_type": "stream",
     "text": [
      "0.8785046728971961\n"
     ]
    }
   ],
   "source": [
    "F1_score= (2*Precision*Recall)/ (Precision + Recall)\n",
    "print(F1_score)"
   ]
  },
  {
   "cell_type": "markdown",
   "metadata": {},
   "source": [
    "###  F1 Score , Sensitivity & Precision are better with Logistic regression  thus the best model is PCA along with Logistic regression."
   ]
  },
  {
   "cell_type": "markdown",
   "metadata": {},
   "source": [
    "## Choosing best features"
   ]
  },
  {
   "cell_type": "code",
   "execution_count": 213,
   "metadata": {},
   "outputs": [
    {
     "name": "stdout",
     "output_type": "stream",
     "text": [
      "4\n"
     ]
    }
   ],
   "source": [
    "# run a random forest model on train data\n",
    "\n",
    "max_features = int(round(np.sqrt(X_train.shape[1])))    # number of variables to consider to split each node\n",
    "print(max_features)\n",
    "\n",
    "rf_model = RandomForestClassifier(n_estimators=100, max_features=max_features, oob_score=True, random_state=4, verbose=1)"
   ]
  },
  {
   "cell_type": "code",
   "execution_count": 214,
   "metadata": {},
   "outputs": [
    {
     "name": "stderr",
     "output_type": "stream",
     "text": [
      "[Parallel(n_jobs=1)]: Done 100 out of 100 | elapsed:    0.0s finished\n"
     ]
    },
    {
     "data": {
      "text/plain": [
       "RandomForestClassifier(bootstrap=True, class_weight=None, criterion='gini',\n",
       "            max_depth=None, max_features=4, max_leaf_nodes=None,\n",
       "            min_impurity_decrease=0.0, min_impurity_split=None,\n",
       "            min_samples_leaf=1, min_samples_split=2,\n",
       "            min_weight_fraction_leaf=0.0, n_estimators=100, n_jobs=1,\n",
       "            oob_score=True, random_state=4, verbose=1, warm_start=False)"
      ]
     },
     "execution_count": 214,
     "metadata": {},
     "output_type": "execute_result"
    }
   ],
   "source": [
    "# fit model\n",
    "rf_model.fit(X_train, y_train)"
   ]
  },
  {
   "cell_type": "code",
   "execution_count": 215,
   "metadata": {},
   "outputs": [
    {
     "data": {
      "text/plain": [
       "0.863013698630137"
      ]
     },
     "execution_count": 215,
     "metadata": {},
     "output_type": "execute_result"
    }
   ],
   "source": [
    "# OOB score\n",
    "rf_model.oob_score_"
   ]
  },
  {
   "cell_type": "code",
   "execution_count": 216,
   "metadata": {},
   "outputs": [
    {
     "name": "stdout",
     "output_type": "stream",
     "text": [
      "[[83  7]\n",
      " [12 44]]\n",
      "ROC:    \t 0.95\n"
     ]
    },
    {
     "name": "stderr",
     "output_type": "stream",
     "text": [
      "[Parallel(n_jobs=1)]: Done 100 out of 100 | elapsed:    0.0s finished\n",
      "[Parallel(n_jobs=1)]: Done 100 out of 100 | elapsed:    0.0s finished\n"
     ]
    }
   ],
   "source": [
    "# predict churn on test data\n",
    "y_pred = rf_model.predict(X_test)\n",
    "\n",
    "# create onfusion matrix\n",
    "cm = confusion_matrix(y_test, y_pred)\n",
    "print(cm)\n",
    "\n",
    "TP = cm[1,1] # true positive \n",
    "TN = cm[0,0] # true negatives\n",
    "FP = cm[0,1] # false positives\n",
    "FN = cm[1,0] # false negatives\n",
    "\n",
    "\n",
    "\n",
    "# check area under curve\n",
    "y_pred_prob = rf_model.predict_proba(X_test)[:, 1]\n",
    "print(\"ROC:    \\t\", round(roc_auc_score(y_test, y_pred_prob),2))"
   ]
  },
  {
   "cell_type": "code",
   "execution_count": 217,
   "metadata": {},
   "outputs": [
    {
     "name": "stdout",
     "output_type": "stream",
     "text": [
      "0.7857142857142857\n"
     ]
    }
   ],
   "source": [
    "# Let's see the sensitivity of RF model\n",
    "\n",
    "recall= TP / float(TP+FN)\n",
    "print(recall)"
   ]
  },
  {
   "cell_type": "code",
   "execution_count": 218,
   "metadata": {},
   "outputs": [
    {
     "name": "stdout",
     "output_type": "stream",
     "text": [
      "0.8627450980392157\n"
     ]
    }
   ],
   "source": [
    "# Let's see the precision of RF model\n",
    "\n",
    "precision=TP / float(TP+FP)\n",
    "print(precision)"
   ]
  },
  {
   "cell_type": "code",
   "execution_count": 219,
   "metadata": {},
   "outputs": [
    {
     "name": "stdout",
     "output_type": "stream",
     "text": [
      "0.8224299065420562\n"
     ]
    }
   ],
   "source": [
    "F1_score= (2*precision*recall)/ (precision + recall)\n",
    "print(F1_score)"
   ]
  },
  {
   "cell_type": "markdown",
   "metadata": {},
   "source": [
    "### Feature Importance"
   ]
  },
  {
   "cell_type": "code",
   "execution_count": 220,
   "metadata": {},
   "outputs": [
    {
     "name": "stdout",
     "output_type": "stream",
     "text": [
      "Sum of importance= 99.99999999999999\n"
     ]
    },
    {
     "data": {
      "text/html": [
       "<div>\n",
       "<style scoped>\n",
       "    .dataframe tbody tr th:only-of-type {\n",
       "        vertical-align: middle;\n",
       "    }\n",
       "\n",
       "    .dataframe tbody tr th {\n",
       "        vertical-align: top;\n",
       "    }\n",
       "\n",
       "    .dataframe thead th {\n",
       "        text-align: right;\n",
       "    }\n",
       "</style>\n",
       "<table border=\"1\" class=\"dataframe\">\n",
       "  <thead>\n",
       "    <tr style=\"text-align: right;\">\n",
       "      <th></th>\n",
       "      <th>variables</th>\n",
       "      <th>importance_percentage</th>\n",
       "    </tr>\n",
       "  </thead>\n",
       "  <tbody>\n",
       "    <tr>\n",
       "      <th>0</th>\n",
       "      <td>PriorDefault</td>\n",
       "      <td>31.988071</td>\n",
       "    </tr>\n",
       "    <tr>\n",
       "      <th>1</th>\n",
       "      <td>Debt</td>\n",
       "      <td>11.263501</td>\n",
       "    </tr>\n",
       "    <tr>\n",
       "      <th>2</th>\n",
       "      <td>Income</td>\n",
       "      <td>10.412894</td>\n",
       "    </tr>\n",
       "    <tr>\n",
       "      <th>3</th>\n",
       "      <td>CreditScore</td>\n",
       "      <td>9.868021</td>\n",
       "    </tr>\n",
       "    <tr>\n",
       "      <th>4</th>\n",
       "      <td>YearsEmployed</td>\n",
       "      <td>9.842868</td>\n",
       "    </tr>\n",
       "    <tr>\n",
       "      <th>5</th>\n",
       "      <td>Age</td>\n",
       "      <td>7.831880</td>\n",
       "    </tr>\n",
       "    <tr>\n",
       "      <th>6</th>\n",
       "      <td>EducationLevel</td>\n",
       "      <td>5.580419</td>\n",
       "    </tr>\n",
       "    <tr>\n",
       "      <th>7</th>\n",
       "      <td>Employed</td>\n",
       "      <td>4.708008</td>\n",
       "    </tr>\n",
       "    <tr>\n",
       "      <th>8</th>\n",
       "      <td>Ethnicity</td>\n",
       "      <td>2.927186</td>\n",
       "    </tr>\n",
       "    <tr>\n",
       "      <th>9</th>\n",
       "      <td>DriversLicense</td>\n",
       "      <td>1.470095</td>\n",
       "    </tr>\n",
       "    <tr>\n",
       "      <th>10</th>\n",
       "      <td>Male</td>\n",
       "      <td>1.438220</td>\n",
       "    </tr>\n",
       "    <tr>\n",
       "      <th>11</th>\n",
       "      <td>Married</td>\n",
       "      <td>1.340038</td>\n",
       "    </tr>\n",
       "    <tr>\n",
       "      <th>12</th>\n",
       "      <td>BankCustomer</td>\n",
       "      <td>1.328800</td>\n",
       "    </tr>\n",
       "  </tbody>\n",
       "</table>\n",
       "</div>"
      ],
      "text/plain": [
       "         variables  importance_percentage\n",
       "0     PriorDefault              31.988071\n",
       "1             Debt              11.263501\n",
       "2           Income              10.412894\n",
       "3      CreditScore               9.868021\n",
       "4    YearsEmployed               9.842868\n",
       "5              Age               7.831880\n",
       "6   EducationLevel               5.580419\n",
       "7         Employed               4.708008\n",
       "8        Ethnicity               2.927186\n",
       "9   DriversLicense               1.470095\n",
       "10            Male               1.438220\n",
       "11         Married               1.340038\n",
       "12    BankCustomer               1.328800"
      ]
     },
     "execution_count": 220,
     "metadata": {},
     "output_type": "execute_result"
    }
   ],
   "source": [
    "# predictors\n",
    "features = df.drop('Approved', axis=1).columns\n",
    "\n",
    "# feature_importance\n",
    "importance = rf_model.feature_importances_\n",
    "\n",
    "# create dataframe\n",
    "feature_importance = pd.DataFrame({'variables': features, 'importance_percentage': importance*100})\n",
    "feature_importance = feature_importance[['variables', 'importance_percentage']]\n",
    "\n",
    "# sort features\n",
    "feature_importance = feature_importance.sort_values('importance_percentage', ascending=False).reset_index(drop=True)\n",
    "print(\"Sum of importance=\", feature_importance.importance_percentage.sum())\n",
    "feature_importance"
   ]
  },
  {
   "cell_type": "markdown",
   "metadata": {},
   "source": [
    "### Extracting top 5 features"
   ]
  },
  {
   "cell_type": "code",
   "execution_count": 221,
   "metadata": {},
   "outputs": [],
   "source": [
    "# extract top 'n' features\n",
    "top_n = 5\n",
    "top_features = feature_importance.variables[0:top_n]"
   ]
  },
  {
   "cell_type": "code",
   "execution_count": 222,
   "metadata": {},
   "outputs": [
    {
     "data": {
      "text/plain": [
       "<matplotlib.axes._subplots.AxesSubplot at 0x1bda1b7c630>"
      ]
     },
     "execution_count": 222,
     "metadata": {},
     "output_type": "execute_result"
    },
    {
     "data": {
      "image/png": "[encoded data removed]",
      "text/plain": [
       "<Figure size 720x720 with 2 Axes>"
      ]
     },
     "metadata": {},
     "output_type": "display_data"
    }
   ],
   "source": [
    "# plot feature correlation\n",
    "import seaborn as sns\n",
    "plt.rcParams[\"figure.figsize\"] =(10,10)\n",
    "mycmap = sns.diverging_palette(199, 359, s=99, center=\"light\", as_cmap=True)\n",
    "sns.heatmap(data=X_train[top_features].corr(), center=0.0, cmap=mycmap)"
   ]
  },
  {
   "cell_type": "code",
   "execution_count": 223,
   "metadata": {},
   "outputs": [],
   "source": [
    "X_train = X_train[top_features]\n",
    "X_test = X_test[top_features]"
   ]
  },
  {
   "cell_type": "code",
   "execution_count": 224,
   "metadata": {},
   "outputs": [],
   "source": [
    "# logistic regression\n",
    "steps = [('scaler', StandardScaler()), \n",
    "         (\"logistic\", LogisticRegression())\n",
    "        ]\n",
    "\n",
    "# compile pipeline\n",
    "logistic = Pipeline(steps)\n",
    "\n",
    "# hyperparameter space\n",
    "params = {'logistic__C': [0.1, 0.5, 1, 2, 3, 4, 5, 10], 'logistic__penalty': ['l1', 'l2']}\n",
    "\n",
    "# create 5 folds\n",
    "folds = StratifiedKFold(n_splits = 5, shuffle = True, random_state = 4)\n",
    "\n",
    "# create gridsearch object\n",
    "model = GridSearchCV(estimator=logistic, cv=folds, param_grid=params, scoring='f1', n_jobs=-1, verbose=1)"
   ]
  },
  {
   "cell_type": "code",
   "execution_count": 225,
   "metadata": {},
   "outputs": [
    {
     "name": "stdout",
     "output_type": "stream",
     "text": [
      "Fitting 5 folds for each of 16 candidates, totalling 80 fits\n"
     ]
    },
    {
     "name": "stderr",
     "output_type": "stream",
     "text": [
      "[Parallel(n_jobs=-1)]: Done  34 tasks      | elapsed:   57.2s\n",
      "[Parallel(n_jobs=-1)]: Done  65 out of  80 | elapsed:   57.4s remaining:   13.2s\n",
      "[Parallel(n_jobs=-1)]: Done  80 out of  80 | elapsed:   57.4s finished\n"
     ]
    },
    {
     "data": {
      "text/plain": [
       "GridSearchCV(cv=StratifiedKFold(n_splits=5, random_state=4, shuffle=True),\n",
       "       error_score='raise',\n",
       "       estimator=Pipeline(memory=None,\n",
       "     steps=[('scaler', StandardScaler(copy=True, with_mean=True, with_std=True)), ('logistic', LogisticRegression(C=1.0, class_weight=None, dual=False, fit_intercept=True,\n",
       "          intercept_scaling=1, max_iter=100, multi_class='ovr', n_jobs=1,\n",
       "          penalty='l2', random_state=None, solver='liblinear', tol=0.0001,\n",
       "          verbose=0, warm_start=False))]),\n",
       "       fit_params=None, iid=True, n_jobs=-1,\n",
       "       param_grid={'logistic__C': [0.1, 0.5, 1, 2, 3, 4, 5, 10], 'logistic__penalty': ['l1', 'l2']},\n",
       "       pre_dispatch='2*n_jobs', refit=True, return_train_score='warn',\n",
       "       scoring='f1', verbose=1)"
      ]
     },
     "execution_count": 225,
     "metadata": {},
     "output_type": "execute_result"
    }
   ],
   "source": [
    "# fit model\n",
    "\n",
    "model.fit(X_train, y_train)"
   ]
  },
  {
   "cell_type": "code",
   "execution_count": 226,
   "metadata": {},
   "outputs": [
    {
     "name": "stdout",
     "output_type": "stream",
     "text": [
      "Best Metric Value:  0.8214093782466771\n",
      "Best hyperparameters:  {'logistic__C': 0.1, 'logistic__penalty': 'l1'}\n"
     ]
    }
   ],
   "source": [
    "# print best hyperparameters\n",
    "print(\"Best Metric Value: \", model.best_score_)\n",
    "print(\"Best hyperparameters: \", model.best_params_)"
   ]
  },
  {
   "cell_type": "code",
   "execution_count": 227,
   "metadata": {},
   "outputs": [
    {
     "name": "stdout",
     "output_type": "stream",
     "text": [
      "[[71 19]\n",
      " [ 6 50]]\n",
      "ROC:    \t 0.89\n"
     ]
    }
   ],
   "source": [
    "# predict on test data\n",
    "\n",
    "y_pred = model.predict(X_test)\n",
    "\n",
    "# create onfusion matrix\n",
    "cm = confusion_matrix(y_test, y_pred)\n",
    "print(cm)\n",
    "\n",
    "\n",
    "TP = cm[1,1] # true positive \n",
    "TN = cm[0,0] # true negatives\n",
    "FP = cm[0,1] # false positives\n",
    "FN = cm[1,0] # false negatives\n",
    "\n",
    "# check area under curve\n",
    "y_pred_prob = model.predict_proba(X_test)[:, 1]\n",
    "print(\"ROC:    \\t\", round(roc_auc_score(y_test, y_pred_prob),2))"
   ]
  },
  {
   "cell_type": "code",
   "execution_count": 228,
   "metadata": {},
   "outputs": [
    {
     "name": "stdout",
     "output_type": "stream",
     "text": [
      "0.8928571428571429\n"
     ]
    }
   ],
   "source": [
    "# Sensitivity\n",
    "\n",
    "Recall_=TP / float(TP+FN)\n",
    "print(Recall_)\n"
   ]
  },
  {
   "cell_type": "code",
   "execution_count": 229,
   "metadata": {},
   "outputs": [
    {
     "name": "stdout",
     "output_type": "stream",
     "text": [
      "0.7246376811594203\n"
     ]
    }
   ],
   "source": [
    "#Precision\n",
    "\n",
    "Precision_=TP / float(TP+FP)\n",
    "print(Precision_)\n"
   ]
  },
  {
   "cell_type": "code",
   "execution_count": 230,
   "metadata": {},
   "outputs": [
    {
     "data": {
      "text/plain": [
       "0.7888888888888889"
      ]
     },
     "execution_count": 230,
     "metadata": {},
     "output_type": "execute_result"
    }
   ],
   "source": [
    "# Specificity\n",
    "\n",
    "TN / float(TN+FP)"
   ]
  },
  {
   "cell_type": "code",
   "execution_count": 231,
   "metadata": {},
   "outputs": [
    {
     "name": "stdout",
     "output_type": "stream",
     "text": [
      "0.8\n"
     ]
    }
   ],
   "source": [
    "F1_score= (2*Precision_*Recall_)/ (Precision_ + Recall_)\n",
    "print(F1_score)"
   ]
  },
  {
   "cell_type": "markdown",
   "metadata": {},
   "source": [
    "### Extract the intercept and the coefficients from the logistic model "
   ]
  },
  {
   "cell_type": "code",
   "execution_count": 232,
   "metadata": {},
   "outputs": [],
   "source": [
    "logistic_model = model.best_estimator_.named_steps['logistic']"
   ]
  },
  {
   "cell_type": "code",
   "execution_count": 233,
   "metadata": {},
   "outputs": [],
   "source": [
    "# intercept\n",
    "intercept_df = pd.DataFrame(logistic_model.intercept_.reshape((1,1)), columns = ['intercept'])"
   ]
  },
  {
   "cell_type": "code",
   "execution_count": 234,
   "metadata": {},
   "outputs": [],
   "source": [
    "# coefficients\n",
    "coefficients = logistic_model.coef_.reshape((5, 1)).tolist()\n",
    "coefficients = [val for sublist in coefficients for val in sublist]\n",
    "coefficients = [round(coefficient, 3) for coefficient in coefficients]\n",
    "\n",
    "logistic_features = list(X_train.columns)\n",
    "coefficients_df = pd.DataFrame(logistic_model.coef_, columns=logistic_features)"
   ]
  },
  {
   "cell_type": "code",
   "execution_count": 235,
   "metadata": {},
   "outputs": [
    {
     "data": {
      "text/html": [
       "<div>\n",
       "<style scoped>\n",
       "    .dataframe tbody tr th:only-of-type {\n",
       "        vertical-align: middle;\n",
       "    }\n",
       "\n",
       "    .dataframe tbody tr th {\n",
       "        vertical-align: top;\n",
       "    }\n",
       "\n",
       "    .dataframe thead th {\n",
       "        text-align: right;\n",
       "    }\n",
       "</style>\n",
       "<table border=\"1\" class=\"dataframe\">\n",
       "  <thead>\n",
       "    <tr style=\"text-align: right;\">\n",
       "      <th></th>\n",
       "      <th>intercept</th>\n",
       "      <th>PriorDefault</th>\n",
       "      <th>Debt</th>\n",
       "      <th>Income</th>\n",
       "      <th>CreditScore</th>\n",
       "      <th>YearsEmployed</th>\n",
       "    </tr>\n",
       "  </thead>\n",
       "  <tbody>\n",
       "    <tr>\n",
       "      <th>0</th>\n",
       "      <td>-0.582709</td>\n",
       "      <td>1.404495</td>\n",
       "      <td>0.0</td>\n",
       "      <td>0.324156</td>\n",
       "      <td>0.467856</td>\n",
       "      <td>0.11949</td>\n",
       "    </tr>\n",
       "  </tbody>\n",
       "</table>\n",
       "</div>"
      ],
      "text/plain": [
       "   intercept  PriorDefault  Debt    Income  CreditScore  YearsEmployed\n",
       "0  -0.582709      1.404495   0.0  0.324156     0.467856        0.11949"
      ]
     },
     "execution_count": 235,
     "metadata": {},
     "output_type": "execute_result"
    }
   ],
   "source": [
    "# concatenate dataframes\n",
    "coefficients = pd.concat([intercept_df, coefficients_df], axis=1)\n",
    "coefficients"
   ]
  },
  {
   "cell_type": "code",
   "execution_count": null,
   "metadata": {},
   "outputs": [],
   "source": []
  },
  {
   "cell_type": "markdown",
   "metadata": {},
   "source": [
    "##  PREDICTION ON TEST FILE"
   ]
  },
  {
   "cell_type": "code",
   "execution_count": 236,
   "metadata": {},
   "outputs": [
    {
     "data": {
      "text/html": [
       "<div>\n",
       "<style scoped>\n",
       "    .dataframe tbody tr th:only-of-type {\n",
       "        vertical-align: middle;\n",
       "    }\n",
       "\n",
       "    .dataframe tbody tr th {\n",
       "        vertical-align: top;\n",
       "    }\n",
       "\n",
       "    .dataframe thead th {\n",
       "        text-align: right;\n",
       "    }\n",
       "</style>\n",
       "<table border=\"1\" class=\"dataframe\">\n",
       "  <thead>\n",
       "    <tr style=\"text-align: right;\">\n",
       "      <th></th>\n",
       "      <th>Key</th>\n",
       "      <th>Male</th>\n",
       "      <th>Age</th>\n",
       "      <th>Debt</th>\n",
       "      <th>Married</th>\n",
       "      <th>BankCustomer</th>\n",
       "      <th>EducationLevel</th>\n",
       "      <th>Ethnicity</th>\n",
       "      <th>YearsEmployed</th>\n",
       "      <th>PriorDefault</th>\n",
       "      <th>Employed</th>\n",
       "      <th>CreditScore</th>\n",
       "      <th>DriversLicense</th>\n",
       "      <th>Income</th>\n",
       "    </tr>\n",
       "  </thead>\n",
       "  <tbody>\n",
       "    <tr>\n",
       "      <th>0</th>\n",
       "      <td>1</td>\n",
       "      <td>1</td>\n",
       "      <td>31</td>\n",
       "      <td>0.04</td>\n",
       "      <td>1</td>\n",
       "      <td>1</td>\n",
       "      <td>8</td>\n",
       "      <td>3</td>\n",
       "      <td>0.040</td>\n",
       "      <td>0</td>\n",
       "      <td>0</td>\n",
       "      <td>0</td>\n",
       "      <td>0</td>\n",
       "      <td>0</td>\n",
       "    </tr>\n",
       "    <tr>\n",
       "      <th>1</th>\n",
       "      <td>2</td>\n",
       "      <td>0</td>\n",
       "      <td>21</td>\n",
       "      <td>11.75</td>\n",
       "      <td>0</td>\n",
       "      <td>0</td>\n",
       "      <td>1</td>\n",
       "      <td>3</td>\n",
       "      <td>0.250</td>\n",
       "      <td>0</td>\n",
       "      <td>0</td>\n",
       "      <td>0</td>\n",
       "      <td>1</td>\n",
       "      <td>0</td>\n",
       "    </tr>\n",
       "    <tr>\n",
       "      <th>2</th>\n",
       "      <td>3</td>\n",
       "      <td>0</td>\n",
       "      <td>17</td>\n",
       "      <td>0.54</td>\n",
       "      <td>0</td>\n",
       "      <td>0</td>\n",
       "      <td>1</td>\n",
       "      <td>3</td>\n",
       "      <td>1.750</td>\n",
       "      <td>0</td>\n",
       "      <td>1</td>\n",
       "      <td>1</td>\n",
       "      <td>1</td>\n",
       "      <td>5</td>\n",
       "    </tr>\n",
       "    <tr>\n",
       "      <th>3</th>\n",
       "      <td>4</td>\n",
       "      <td>1</td>\n",
       "      <td>30</td>\n",
       "      <td>0.50</td>\n",
       "      <td>0</td>\n",
       "      <td>0</td>\n",
       "      <td>3</td>\n",
       "      <td>2</td>\n",
       "      <td>0.085</td>\n",
       "      <td>0</td>\n",
       "      <td>0</td>\n",
       "      <td>0</td>\n",
       "      <td>1</td>\n",
       "      <td>0</td>\n",
       "    </tr>\n",
       "    <tr>\n",
       "      <th>4</th>\n",
       "      <td>5</td>\n",
       "      <td>1</td>\n",
       "      <td>51</td>\n",
       "      <td>2.04</td>\n",
       "      <td>1</td>\n",
       "      <td>1</td>\n",
       "      <td>5</td>\n",
       "      <td>1</td>\n",
       "      <td>1.500</td>\n",
       "      <td>0</td>\n",
       "      <td>0</td>\n",
       "      <td>0</td>\n",
       "      <td>0</td>\n",
       "      <td>1</td>\n",
       "    </tr>\n",
       "  </tbody>\n",
       "</table>\n",
       "</div>"
      ],
      "text/plain": [
       "   Key  Male  Age   Debt  Married  BankCustomer  EducationLevel  Ethnicity  \\\n",
       "0    1     1   31   0.04        1             1               8          3   \n",
       "1    2     0   21  11.75        0             0               1          3   \n",
       "2    3     0   17   0.54        0             0               1          3   \n",
       "3    4     1   30   0.50        0             0               3          2   \n",
       "4    5     1   51   2.04        1             1               5          1   \n",
       "\n",
       "   YearsEmployed  PriorDefault  Employed  CreditScore  DriversLicense  Income  \n",
       "0          0.040             0         0            0               0       0  \n",
       "1          0.250             0         0            0               1       0  \n",
       "2          1.750             0         1            1               1       5  \n",
       "3          0.085             0         0            0               1       0  \n",
       "4          1.500             0         0            0               0       1  "
      ]
     },
     "execution_count": 236,
     "metadata": {},
     "output_type": "execute_result"
    }
   ],
   "source": [
    "test.head()\n"
   ]
  },
  {
   "cell_type": "code",
   "execution_count": 237,
   "metadata": {},
   "outputs": [
    {
     "data": {
      "text/html": [
       "<div>\n",
       "<style scoped>\n",
       "    .dataframe tbody tr th:only-of-type {\n",
       "        vertical-align: middle;\n",
       "    }\n",
       "\n",
       "    .dataframe tbody tr th {\n",
       "        vertical-align: top;\n",
       "    }\n",
       "\n",
       "    .dataframe thead th {\n",
       "        text-align: right;\n",
       "    }\n",
       "</style>\n",
       "<table border=\"1\" class=\"dataframe\">\n",
       "  <thead>\n",
       "    <tr style=\"text-align: right;\">\n",
       "      <th></th>\n",
       "      <th>Key</th>\n",
       "      <th>Male</th>\n",
       "      <th>Age</th>\n",
       "      <th>Debt</th>\n",
       "      <th>Married</th>\n",
       "      <th>BankCustomer</th>\n",
       "      <th>EducationLevel</th>\n",
       "      <th>Ethnicity</th>\n",
       "      <th>YearsEmployed</th>\n",
       "      <th>PriorDefault</th>\n",
       "      <th>Employed</th>\n",
       "      <th>CreditScore</th>\n",
       "      <th>DriversLicense</th>\n",
       "      <th>Income</th>\n",
       "    </tr>\n",
       "  </thead>\n",
       "  <tbody>\n",
       "  </tbody>\n",
       "</table>\n",
       "</div>"
      ],
      "text/plain": [
       "Empty DataFrame\n",
       "Columns: [Key, Male, Age, Debt, Married, BankCustomer, EducationLevel, Ethnicity, YearsEmployed, PriorDefault, Employed, CreditScore, DriversLicense, Income]\n",
       "Index: []"
      ]
     },
     "execution_count": 237,
     "metadata": {},
     "output_type": "execute_result"
    }
   ],
   "source": [
    "test[test.duplicated(keep=False)]"
   ]
  },
  {
   "cell_type": "code",
   "execution_count": 238,
   "metadata": {},
   "outputs": [
    {
     "data": {
      "text/html": [
       "<div>\n",
       "<style scoped>\n",
       "    .dataframe tbody tr th:only-of-type {\n",
       "        vertical-align: middle;\n",
       "    }\n",
       "\n",
       "    .dataframe tbody tr th {\n",
       "        vertical-align: top;\n",
       "    }\n",
       "\n",
       "    .dataframe thead th {\n",
       "        text-align: right;\n",
       "    }\n",
       "</style>\n",
       "<table border=\"1\" class=\"dataframe\">\n",
       "  <thead>\n",
       "    <tr style=\"text-align: right;\">\n",
       "      <th></th>\n",
       "      <th>Debt</th>\n",
       "      <th>YearsEmployed</th>\n",
       "      <th>PriorDefault</th>\n",
       "      <th>CreditScore</th>\n",
       "      <th>Income</th>\n",
       "    </tr>\n",
       "  </thead>\n",
       "  <tbody>\n",
       "    <tr>\n",
       "      <th>0</th>\n",
       "      <td>0.04</td>\n",
       "      <td>0.040</td>\n",
       "      <td>0</td>\n",
       "      <td>0</td>\n",
       "      <td>0</td>\n",
       "    </tr>\n",
       "    <tr>\n",
       "      <th>1</th>\n",
       "      <td>11.75</td>\n",
       "      <td>0.250</td>\n",
       "      <td>0</td>\n",
       "      <td>0</td>\n",
       "      <td>0</td>\n",
       "    </tr>\n",
       "    <tr>\n",
       "      <th>2</th>\n",
       "      <td>0.54</td>\n",
       "      <td>1.750</td>\n",
       "      <td>0</td>\n",
       "      <td>1</td>\n",
       "      <td>5</td>\n",
       "    </tr>\n",
       "    <tr>\n",
       "      <th>3</th>\n",
       "      <td>0.50</td>\n",
       "      <td>0.085</td>\n",
       "      <td>0</td>\n",
       "      <td>0</td>\n",
       "      <td>0</td>\n",
       "    </tr>\n",
       "    <tr>\n",
       "      <th>4</th>\n",
       "      <td>2.04</td>\n",
       "      <td>1.500</td>\n",
       "      <td>0</td>\n",
       "      <td>0</td>\n",
       "      <td>1</td>\n",
       "    </tr>\n",
       "  </tbody>\n",
       "</table>\n",
       "</div>"
      ],
      "text/plain": [
       "    Debt  YearsEmployed  PriorDefault  CreditScore  Income\n",
       "0   0.04          0.040             0            0       0\n",
       "1  11.75          0.250             0            0       0\n",
       "2   0.54          1.750             0            1       5\n",
       "3   0.50          0.085             0            0       0\n",
       "4   2.04          1.500             0            0       1"
      ]
     },
     "execution_count": 238,
     "metadata": {},
     "output_type": "execute_result"
    }
   ],
   "source": [
    "test1= test\n",
    "test= test.drop(['Male', 'Married','EducationLevel',\n",
    "       'Ethnicity',  'Age' ,'BankCustomer','Employed', \n",
    "       'DriversLicense','Key'], axis=1)\n",
    "\n",
    "test.head()"
   ]
  },
  {
   "cell_type": "markdown",
   "metadata": {},
   "source": [
    "#### Predicting on Test file using the final model "
   ]
  },
  {
   "cell_type": "code",
   "execution_count": 239,
   "metadata": {},
   "outputs": [
    {
     "data": {
      "text/plain": [
       "array([0, 1, 0, 0, 1, 1, 1, 1, 1, 1], dtype=int64)"
      ]
     },
     "execution_count": 239,
     "metadata": {},
     "output_type": "execute_result"
    }
   ],
   "source": [
    "ypredict= model.predict(test)\n",
    "ypredict[:10]"
   ]
  },
  {
   "cell_type": "code",
   "execution_count": 240,
   "metadata": {},
   "outputs": [],
   "source": [
    "test['Key']= test1['Key']\n",
    "test['Approved']= ypredict"
   ]
  },
  {
   "cell_type": "code",
   "execution_count": 241,
   "metadata": {},
   "outputs": [
    {
     "name": "stdout",
     "output_type": "stream",
     "text": [
      "      Debt  YearsEmployed  PriorDefault  CreditScore  Income  Key  Approved\n",
      "0    0.040          0.040             0            0       0    1         0\n",
      "1   11.750          0.250             0            0       0    2         1\n",
      "2    0.540          1.750             0            1       5    3         0\n",
      "3    0.500          0.085             0            0       0    4         0\n",
      "4    2.040          1.500             0            0       1    5         1\n",
      "5    5.835          5.500             0            0     150    6         1\n",
      "6   12.835          0.500             0            0       2    7         1\n",
      "7    0.835          0.500             0            0     117    8         1\n",
      "8    2.000          2.000             0            0      17    9         1\n",
      "9    2.500          0.210             0            0     246   10         1\n",
      "10   1.040          0.665             0            0     237   11         1\n",
      "11  10.665          0.085             0           12       3   12         1\n",
      "12   7.250          0.040             0            1       1   13         1\n",
      "13  10.210          0.000             0            0      50   14         1\n",
      "14   1.250          0.000             0            0       0   15         1\n",
      "15   0.290          0.290             0            0     364   16         1\n",
      "16   1.000          3.000             0            0     537   17         1\n",
      "17   3.290          0.335             0            0       2   18         1\n",
      "18   0.750          0.585             0            0       3   19         0\n",
      "19   3.290          3.500             0            0       0   20         1\n"
     ]
    }
   ],
   "source": [
    "\n",
    "print(test.head(20))"
   ]
  },
  {
   "cell_type": "code",
   "execution_count": 242,
   "metadata": {},
   "outputs": [],
   "source": [
    "test['Approved']=test['Approved'].replace({0:'-', 1: '+'})"
   ]
  },
  {
   "cell_type": "code",
   "execution_count": 243,
   "metadata": {},
   "outputs": [
    {
     "data": {
      "text/html": [
       "<div>\n",
       "<style scoped>\n",
       "    .dataframe tbody tr th:only-of-type {\n",
       "        vertical-align: middle;\n",
       "    }\n",
       "\n",
       "    .dataframe tbody tr th {\n",
       "        vertical-align: top;\n",
       "    }\n",
       "\n",
       "    .dataframe thead th {\n",
       "        text-align: right;\n",
       "    }\n",
       "</style>\n",
       "<table border=\"1\" class=\"dataframe\">\n",
       "  <thead>\n",
       "    <tr style=\"text-align: right;\">\n",
       "      <th></th>\n",
       "      <th>Debt</th>\n",
       "      <th>YearsEmployed</th>\n",
       "      <th>PriorDefault</th>\n",
       "      <th>CreditScore</th>\n",
       "      <th>Income</th>\n",
       "      <th>Key</th>\n",
       "      <th>Approved</th>\n",
       "    </tr>\n",
       "  </thead>\n",
       "  <tbody>\n",
       "    <tr>\n",
       "      <th>0</th>\n",
       "      <td>0.04</td>\n",
       "      <td>0.040</td>\n",
       "      <td>0</td>\n",
       "      <td>0</td>\n",
       "      <td>0</td>\n",
       "      <td>1</td>\n",
       "      <td>-</td>\n",
       "    </tr>\n",
       "    <tr>\n",
       "      <th>1</th>\n",
       "      <td>11.75</td>\n",
       "      <td>0.250</td>\n",
       "      <td>0</td>\n",
       "      <td>0</td>\n",
       "      <td>0</td>\n",
       "      <td>2</td>\n",
       "      <td>+</td>\n",
       "    </tr>\n",
       "    <tr>\n",
       "      <th>2</th>\n",
       "      <td>0.54</td>\n",
       "      <td>1.750</td>\n",
       "      <td>0</td>\n",
       "      <td>1</td>\n",
       "      <td>5</td>\n",
       "      <td>3</td>\n",
       "      <td>-</td>\n",
       "    </tr>\n",
       "    <tr>\n",
       "      <th>3</th>\n",
       "      <td>0.50</td>\n",
       "      <td>0.085</td>\n",
       "      <td>0</td>\n",
       "      <td>0</td>\n",
       "      <td>0</td>\n",
       "      <td>4</td>\n",
       "      <td>-</td>\n",
       "    </tr>\n",
       "    <tr>\n",
       "      <th>4</th>\n",
       "      <td>2.04</td>\n",
       "      <td>1.500</td>\n",
       "      <td>0</td>\n",
       "      <td>0</td>\n",
       "      <td>1</td>\n",
       "      <td>5</td>\n",
       "      <td>+</td>\n",
       "    </tr>\n",
       "  </tbody>\n",
       "</table>\n",
       "</div>"
      ],
      "text/plain": [
       "    Debt  YearsEmployed  PriorDefault  CreditScore  Income  Key Approved\n",
       "0   0.04          0.040             0            0       0    1        -\n",
       "1  11.75          0.250             0            0       0    2        +\n",
       "2   0.54          1.750             0            1       5    3        -\n",
       "3   0.50          0.085             0            0       0    4        -\n",
       "4   2.04          1.500             0            0       1    5        +"
      ]
     },
     "execution_count": 243,
     "metadata": {},
     "output_type": "execute_result"
    }
   ],
   "source": [
    "test.head()"
   ]
  },
  {
   "cell_type": "code",
   "execution_count": 244,
   "metadata": {},
   "outputs": [],
   "source": [
    "test= test.drop(['Debt', 'YearsEmployed','PriorDefault','CreditScore','Income'], axis=1)\n"
   ]
  },
  {
   "cell_type": "code",
   "execution_count": 245,
   "metadata": {},
   "outputs": [
    {
     "data": {
      "text/html": [
       "<div>\n",
       "<style scoped>\n",
       "    .dataframe tbody tr th:only-of-type {\n",
       "        vertical-align: middle;\n",
       "    }\n",
       "\n",
       "    .dataframe tbody tr th {\n",
       "        vertical-align: top;\n",
       "    }\n",
       "\n",
       "    .dataframe thead th {\n",
       "        text-align: right;\n",
       "    }\n",
       "</style>\n",
       "<table border=\"1\" class=\"dataframe\">\n",
       "  <thead>\n",
       "    <tr style=\"text-align: right;\">\n",
       "      <th></th>\n",
       "      <th>Key</th>\n",
       "      <th>Approved</th>\n",
       "    </tr>\n",
       "  </thead>\n",
       "  <tbody>\n",
       "    <tr>\n",
       "      <th>0</th>\n",
       "      <td>1</td>\n",
       "      <td>-</td>\n",
       "    </tr>\n",
       "    <tr>\n",
       "      <th>1</th>\n",
       "      <td>2</td>\n",
       "      <td>+</td>\n",
       "    </tr>\n",
       "    <tr>\n",
       "      <th>2</th>\n",
       "      <td>3</td>\n",
       "      <td>-</td>\n",
       "    </tr>\n",
       "    <tr>\n",
       "      <th>3</th>\n",
       "      <td>4</td>\n",
       "      <td>-</td>\n",
       "    </tr>\n",
       "    <tr>\n",
       "      <th>4</th>\n",
       "      <td>5</td>\n",
       "      <td>+</td>\n",
       "    </tr>\n",
       "  </tbody>\n",
       "</table>\n",
       "</div>"
      ],
      "text/plain": [
       "   Key Approved\n",
       "0    1        -\n",
       "1    2        +\n",
       "2    3        -\n",
       "3    4        -\n",
       "4    5        +"
      ]
     },
     "execution_count": 245,
     "metadata": {},
     "output_type": "execute_result"
    }
   ],
   "source": [
    "test.head()"
   ]
  },
  {
   "cell_type": "code",
   "execution_count": 246,
   "metadata": {},
   "outputs": [
    {
     "data": {
      "text/plain": [
       "RangeIndex(start=0, stop=100, step=1)"
      ]
     },
     "execution_count": 246,
     "metadata": {},
     "output_type": "execute_result"
    }
   ],
   "source": [
    "test.index"
   ]
  },
  {
   "cell_type": "code",
   "execution_count": 249,
   "metadata": {},
   "outputs": [],
   "source": [
    "test.to_csv('jIGYASU.csv', index=False)"
   ]
  },
  {
   "cell_type": "code",
   "execution_count": null,
   "metadata": {},
   "outputs": [],
   "source": [
    "#test= test[:12]"
   ]
  },
  {
   "cell_type": "code",
   "execution_count": null,
   "metadata": {},
   "outputs": [],
   "source": [
    "test.to_csv('Submission_NidhiG.csv', index=False)"
   ]
  },
  {
   "cell_type": "markdown",
   "metadata": {},
   "source": []
  }
 ],
 "metadata": {
  "kernelspec": {
   "display_name": "Python 3",
   "language": "python",
   "name": "python3"
  },
  "language_info": {
   "codemirror_mode": {
    "name": "ipython",
    "version": 3
   },
   "file_extension": ".py",
   "mimetype": "text/x-python",
   "name": "python",
   "nbconvert_exporter": "python",
   "pygments_lexer": "ipython3",
   "version": "3.6.5"
  }
 },
 "nbformat": 4,
 "nbformat_minor": 2
}
